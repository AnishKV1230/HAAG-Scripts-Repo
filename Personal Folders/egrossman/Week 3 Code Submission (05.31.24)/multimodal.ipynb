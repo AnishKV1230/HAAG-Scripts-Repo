{
 "cells": [
  {
   "cell_type": "markdown",
   "metadata": {},
   "source": [
    "#### Generating embeddings for multi-modal embeddings\n",
    "\n",
    "For our application it is necessary to store each item of data as a vector embedding of both its text and image, allowing us to look up either using a query or uploaded image\n",
    "\n",
    "To perform this task, we need to use a model that encodes both of these things\n",
    "\n",
    "It was mentioned that the CLIP model from OpenAI might perform well\n",
    "\n",
    "*Radford, Alec, et al. \"Learning transferable visual models from natural language supervision.\"*\n",
    "*International conference on machine learning. PMLR, 2021.*\n",
    "\n",
    "![Clip Model](./CLIP.png)"
   ]
  },
  {
   "cell_type": "markdown",
   "metadata": {},
   "source": [
    "The way CLIP works is that it performs embeddings each on an image and the text. The interesting caveat is that for a pretrained CLIP model, both image and text should provide similar embeddings. This is because it's maximizing the cosine simularity between the correct text and image embeddings and minimizing the simularity against other images.\n",
    "\n",
    "So which do we use?\n",
    "\n",
    "For experimentation we have a few different ways we can encode our data:\n",
    "\n",
    "1. Encode Image Only\n",
    "2. Encode Description Only\n",
    "3. Average the two embeddings\n",
    "4. Encode the species and append it to the image encodings\n",
    "\n",
    "The last one is a topic I may want to pursue further for reseach purposes. The intuition is that there should already be embeddings for species, but I have my doubts that the species is accurate. Perhaps these models don't distinguish between \"puma\" and \"mountain lion\". In theory, they should have similar embedding spaces since they are close in thier hierarchy. It could be worth fine-tuning these embeddings to account for a space that minimizes the distance between instances that are close in the hierarchy of thier species in addition to other losses. For now, we should evaluate how well these embeddings cluster - do multiple instances of the same species cluster together in the embedding space?\n",
    "\n"
   ]
  },
  {
   "cell_type": "code",
   "execution_count": 1,
   "metadata": {},
   "outputs": [
    {
     "name": "stderr",
     "output_type": "stream",
     "text": [
      "/Users/elangrossman/miniconda3/envs/nfhm/lib/python3.11/site-packages/tqdm/auto.py:21: TqdmWarning: IProgress not found. Please update jupyter and ipywidgets. See https://ipywidgets.readthedocs.io/en/stable/user_install.html\n",
      "  from .autonotebook import tqdm as notebook_tqdm\n"
     ]
    }
   ],
   "source": [
    "## example taken from https://github.com/mlfoundations/open_clip\n",
    "\n",
    "import torch\n",
    "from PIL import Image\n",
    "import open_clip\n",
    "\n",
    "model, _, preprocess = open_clip.create_model_and_transforms('ViT-B-32', pretrained='laion2b_s34b_b79k')\n",
    "model.eval()  # model in train mode by default, impacts some models with BatchNorm or stochastic depth active\n",
    "tokenizer = open_clip.get_tokenizer('ViT-B-32')"
   ]
  },
  {
   "cell_type": "code",
   "execution_count": 2,
   "metadata": {},
   "outputs": [
    {
     "name": "stderr",
     "output_type": "stream",
     "text": [
      "/Users/elangrossman/miniconda3/envs/nfhm/lib/python3.11/site-packages/torch/amp/autocast_mode.py:250: UserWarning: User provided device_type of 'cuda', but CUDA is not available. Disabling\n",
      "  warnings.warn(\n"
     ]
    }
   ],
   "source": [
    "image = preprocess(Image.open(\"./CLIP.png\")).unsqueeze(0)\n",
    "text = tokenizer([\"a diagram\", \"a dog\", \"a cat\"])\n",
    "text_features = model.encode_text(text)\n",
    "\n",
    "with torch.no_grad(), torch.cuda.amp.autocast():\n",
    "    image_features = model.encode_image(image)\n",
    "    text_features = model.encode_text(text)\n",
    "\n",
    "    image_features /= image_features.norm(dim=-1, keepdim=True)\n",
    "    text_features /= text_features.norm(dim=-1, keepdim=True)\n",
    "\n",
    "    text_probs = (100.0 * image_features @ text_features.T).softmax(dim=-1)"
   ]
  },
  {
   "cell_type": "code",
   "execution_count": 3,
   "metadata": {},
   "outputs": [
    {
     "name": "stdout",
     "output_type": "stream",
     "text": [
      "picked class:\n",
      "tensor([[9.9950e-01, 4.1210e-04, 8.5326e-05]])\n",
      "Image Feature Length 512\n",
      "Text Feature Length 512\n",
      "Image embedding sample tensor([-0.0186, -0.0976,  0.0265, -0.0389, -0.0357,  0.0116,  0.0391,  0.0195,\n",
      "         0.0531,  0.0391])\n",
      "Text embedding diagram sample tensor([-0.0033, -0.0355, -0.0484, -0.0160, -0.0174, -0.0327,  0.0169,  0.0123,\n",
      "         0.0205, -0.0194])\n",
      "Text embedding dog sample tensor([-0.0298, -0.0092, -0.0168, -0.0052, -0.0099,  0.0167, -0.0019, -0.0047,\n",
      "        -0.0017,  0.0064])\n",
      "Text embedding cat sample tensor([-0.0036, -0.0038,  0.0033, -0.0127, -0.0024,  0.0150,  0.0214, -0.0203,\n",
      "        -0.0182,  0.0171])\n"
     ]
    }
   ],
   "source": [
    "print(\"picked class:\")\n",
    "print(text_probs)\n",
    "\n",
    "print(\"Image Feature Length\",len(image_features[0]))\n",
    "print(\"Text Feature Length\",len(text_features[0]))\n",
    "\n",
    "print(\"Image embedding sample\",image_features[0][0:10])\n",
    "print(\"Text embedding diagram sample\",text_features[0][0:10])\n",
    "print(\"Text embedding dog sample\",text_features[1][0:10])\n",
    "print(\"Text embedding cat sample\",text_features[2][0:10])"
   ]
  },
  {
   "cell_type": "markdown",
   "metadata": {},
   "source": [
    "While this example is decent at predicting the class that the text belongs to, we should be able to get away with running this on batches of images. For now, let's save time and make 3 encodings:\n",
    "1. Species Name\n",
    "2. Description\n",
    "3. Text"
   ]
  },
  {
   "cell_type": "code",
   "execution_count": 4,
   "metadata": {},
   "outputs": [],
   "source": [
    "%load_ext autoreload\n",
    "%autoreload 2\n",
    "\n",
    "import pandas as pd\n",
    "import data_prep\n",
    "import json"
   ]
  },
  {
   "cell_type": "code",
   "execution_count": 22,
   "metadata": {},
   "outputs": [
    {
     "name": "stdout",
     "output_type": "stream",
     "text": [
      "[{'id': 4510345615, 'speciesKey': 2435099, 'scienceName': 'Puma concolor (Linnaeus, 1771)', 'simpleName': 'Puma', 'dataset': 'iNaturalist research-grade observations', 'media': '', 'media_location': 'https://inaturalist-open-data.s3.amazonaws.com/photos/344229334/original.jpeg'}, {'id': 4510345615, 'speciesKey': 2435099, 'scienceName': 'Puma concolor (Linnaeus, 1771)', 'simpleName': 'Puma', 'dataset': 'iNaturalist research-grade observations', 'media': '', 'media_location': 'https://inaturalist-open-data.s3.amazonaws.com/photos/344229310/original.jpeg'}, {'id': 4510345615, 'speciesKey': 2435099, 'scienceName': 'Puma concolor (Linnaeus, 1771)', 'simpleName': 'Puma', 'dataset': 'iNaturalist research-grade observations', 'media': '', 'media_location': 'https://inaturalist-open-data.s3.amazonaws.com/photos/344229315/original.jpeg'}, {'id': 4510345615, 'speciesKey': 2435099, 'scienceName': 'Puma concolor (Linnaeus, 1771)', 'simpleName': 'Puma', 'dataset': 'iNaturalist research-grade observations', 'media': '', 'media_location': 'https://inaturalist-open-data.s3.amazonaws.com/photos/344229333/original.jpeg'}, {'id': 4510372143, 'speciesKey': 2435099, 'scienceName': 'Puma concolor (Linnaeus, 1771)', 'simpleName': 'Puma', 'dataset': 'iNaturalist research-grade observations', 'media': '', 'media_location': 'https://inaturalist-open-data.s3.amazonaws.com/photos/344540127/original.jpeg'}, {'id': 4510372143, 'speciesKey': 2435099, 'scienceName': 'Puma concolor (Linnaeus, 1771)', 'simpleName': 'Puma', 'dataset': 'iNaturalist research-grade observations', 'media': '', 'media_location': 'https://inaturalist-open-data.s3.amazonaws.com/photos/344540140/original.jpeg'}, {'id': 4510372143, 'speciesKey': 2435099, 'scienceName': 'Puma concolor (Linnaeus, 1771)', 'simpleName': 'Puma', 'dataset': 'iNaturalist research-grade observations', 'media': '', 'media_location': 'https://inaturalist-open-data.s3.amazonaws.com/photos/344540130/original.jpeg'}, {'id': 4510335239, 'speciesKey': 2435099, 'scienceName': 'Puma concolor (Linnaeus, 1771)', 'simpleName': 'Puma', 'dataset': 'iNaturalist research-grade observations', 'media': '', 'media_location': 'https://inaturalist-open-data.s3.amazonaws.com/photos/344567383/original.jpg'}, {'id': 4510335239, 'speciesKey': 2435099, 'scienceName': 'Puma concolor (Linnaeus, 1771)', 'simpleName': 'Puma', 'dataset': 'iNaturalist research-grade observations', 'media': '', 'media_location': 'https://inaturalist-open-data.s3.amazonaws.com/photos/344567386/original.jpg'}, {'id': 4510165116, 'speciesKey': 2435099, 'scienceName': 'Puma concolor (Linnaeus, 1771)', 'simpleName': 'Puma', 'dataset': 'iNaturalist research-grade observations', 'media': '', 'media_location': 'https://inaturalist-open-data.s3.amazonaws.com/photos/345079192/original.jpeg'}, {'id': 4510165116, 'speciesKey': 2435099, 'scienceName': 'Puma concolor (Linnaeus, 1771)', 'simpleName': 'Puma', 'dataset': 'iNaturalist research-grade observations', 'media': '', 'media_location': 'https://inaturalist-open-data.s3.amazonaws.com/photos/345079202/original.jpeg'}, {'id': 4510165116, 'speciesKey': 2435099, 'scienceName': 'Puma concolor (Linnaeus, 1771)', 'simpleName': 'Puma', 'dataset': 'iNaturalist research-grade observations', 'media': '', 'media_location': 'https://inaturalist-open-data.s3.amazonaws.com/photos/345079200/original.jpeg'}, {'id': 4510152112, 'speciesKey': 2435099, 'scienceName': 'Puma concolor (Linnaeus, 1771)', 'simpleName': 'Puma', 'dataset': 'iNaturalist research-grade observations', 'media': '', 'media_location': 'https://inaturalist-open-data.s3.amazonaws.com/photos/345119544/original.jpg'}, {'id': 4510152112, 'speciesKey': 2435099, 'scienceName': 'Puma concolor (Linnaeus, 1771)', 'simpleName': 'Puma', 'dataset': 'iNaturalist research-grade observations', 'media': '', 'media_location': 'https://inaturalist-open-data.s3.amazonaws.com/photos/345119520/original.jpg'}, {'id': 4510183154, 'speciesKey': 2435099, 'scienceName': 'Puma concolor (Linnaeus, 1771)', 'simpleName': 'Puma', 'dataset': 'iNaturalist research-grade observations', 'media': '', 'media_location': 'https://inaturalist-open-data.s3.amazonaws.com/photos/345119627/original.jpg'}, {'id': 4510183154, 'speciesKey': 2435099, 'scienceName': 'Puma concolor (Linnaeus, 1771)', 'simpleName': 'Puma', 'dataset': 'iNaturalist research-grade observations', 'media': '', 'media_location': 'https://inaturalist-open-data.s3.amazonaws.com/photos/345119687/original.jpg'}, {'id': 4510183154, 'speciesKey': 2435099, 'scienceName': 'Puma concolor (Linnaeus, 1771)', 'simpleName': 'Puma', 'dataset': 'iNaturalist research-grade observations', 'media': '', 'media_location': 'https://inaturalist-open-data.s3.amazonaws.com/photos/345119590/original.jpg'}, {'id': 4510149082, 'speciesKey': 2435099, 'scienceName': 'Puma concolor (Linnaeus, 1771)', 'simpleName': 'Puma', 'dataset': 'iNaturalist research-grade observations', 'media': '', 'media_location': 'https://inaturalist-open-data.s3.amazonaws.com/photos/345120891/original.jpg'}, {'id': 4510149082, 'speciesKey': 2435099, 'scienceName': 'Puma concolor (Linnaeus, 1771)', 'simpleName': 'Puma', 'dataset': 'iNaturalist research-grade observations', 'media': '', 'media_location': 'https://inaturalist-open-data.s3.amazonaws.com/photos/345120366/original.jpg'}, {'id': 4510149082, 'speciesKey': 2435099, 'scienceName': 'Puma concolor (Linnaeus, 1771)', 'simpleName': 'Puma', 'dataset': 'iNaturalist research-grade observations', 'media': '', 'media_location': 'https://inaturalist-open-data.s3.amazonaws.com/photos/345120095/original.jpg'}, {'id': 4510149082, 'speciesKey': 2435099, 'scienceName': 'Puma concolor (Linnaeus, 1771)', 'simpleName': 'Puma', 'dataset': 'iNaturalist research-grade observations', 'media': '', 'media_location': 'https://inaturalist-open-data.s3.amazonaws.com/photos/345120710/original.jpg'}, {'id': 4510149082, 'speciesKey': 2435099, 'scienceName': 'Puma concolor (Linnaeus, 1771)', 'simpleName': 'Puma', 'dataset': 'iNaturalist research-grade observations', 'media': '', 'media_location': 'https://inaturalist-open-data.s3.amazonaws.com/photos/345119910/original.jpg'}, {'id': 4510163092, 'speciesKey': 2435099, 'scienceName': 'Puma concolor couguar (Kerr, 1792)', 'simpleName': 'Puma', 'dataset': 'iNaturalist research-grade observations', 'media': '', 'media_location': 'https://inaturalist-open-data.s3.amazonaws.com/photos/345140108/original.jpg'}, {'id': 4510180091, 'speciesKey': 2435099, 'scienceName': 'Puma concolor (Linnaeus, 1771)', 'simpleName': 'Puma', 'dataset': 'iNaturalist research-grade observations', 'media': '', 'media_location': 'https://inaturalist-open-data.s3.amazonaws.com/photos/345143306/original.jpeg'}, {'id': 4510180091, 'speciesKey': 2435099, 'scienceName': 'Puma concolor (Linnaeus, 1771)', 'simpleName': 'Puma', 'dataset': 'iNaturalist research-grade observations', 'media': '', 'media_location': 'https://inaturalist-open-data.s3.amazonaws.com/photos/345143444/original.jpeg'}, {'id': 4510180091, 'speciesKey': 2435099, 'scienceName': 'Puma concolor (Linnaeus, 1771)', 'simpleName': 'Puma', 'dataset': 'iNaturalist research-grade observations', 'media': '', 'media_location': 'https://inaturalist-open-data.s3.amazonaws.com/photos/345143329/original.jpeg'}, {'id': 4510174211, 'speciesKey': 2435099, 'scienceName': 'Puma concolor (Linnaeus, 1771)', 'simpleName': 'Puma', 'dataset': 'iNaturalist research-grade observations', 'media': '', 'media_location': 'https://inaturalist-open-data.s3.amazonaws.com/photos/345144042/original.jpeg'}, {'id': 4510174211, 'speciesKey': 2435099, 'scienceName': 'Puma concolor (Linnaeus, 1771)', 'simpleName': 'Puma', 'dataset': 'iNaturalist research-grade observations', 'media': '', 'media_location': 'https://inaturalist-open-data.s3.amazonaws.com/photos/345144028/original.jpeg'}, {'id': 4510174211, 'speciesKey': 2435099, 'scienceName': 'Puma concolor (Linnaeus, 1771)', 'simpleName': 'Puma', 'dataset': 'iNaturalist research-grade observations', 'media': '', 'media_location': 'https://inaturalist-open-data.s3.amazonaws.com/photos/345144001/original.jpeg'}]\n"
     ]
    }
   ],
   "source": [
    "with open(\"./data/sample_occurences.json\", \"rb\") as f:\n",
    "    jdata = f.read()\n",
    "occurences = json.loads(jdata)\n",
    "occurences\n",
    "\n",
    "df = data_prep.parse_records(occurences)"
   ]
  },
  {
   "cell_type": "markdown",
   "metadata": {},
   "source": [
    "Lets write the code to go through each image 1 or 2 at a time. This will simulate doing batches of images"
   ]
  },
  {
   "cell_type": "code",
   "execution_count": 23,
   "metadata": {},
   "outputs": [
    {
     "data": {
      "text/plain": [
       "id                                                       4510345615\n",
       "speciesKey                                                  2435099\n",
       "scienceName                          Puma concolor (Linnaeus, 1771)\n",
       "simpleName                                                     Puma\n",
       "dataset                     iNaturalist research-grade observations\n",
       "media                                                              \n",
       "media_location    https://inaturalist-open-data.s3.amazonaws.com...\n",
       "Name: 0, dtype: object"
      ]
     },
     "execution_count": 23,
     "metadata": {},
     "output_type": "execute_result"
    }
   ],
   "source": [
    "df.iloc[0]"
   ]
  },
  {
   "cell_type": "code",
   "execution_count": null,
   "metadata": {},
   "outputs": [],
   "source": []
  },
  {
   "cell_type": "code",
   "execution_count": 10,
   "metadata": {},
   "outputs": [
    {
     "name": "stdout",
     "output_type": "stream",
     "text": [
      "Echo\n"
     ]
    }
   ],
   "source": [
    "data_prep.echo()"
   ]
  },
  {
   "cell_type": "code",
   "execution_count": null,
   "metadata": {},
   "outputs": [],
   "source": []
  }
 ],
 "metadata": {
  "kernelspec": {
   "display_name": "nfhm",
   "language": "python",
   "name": "python3"
  },
  "language_info": {
   "codemirror_mode": {
    "name": "ipython",
    "version": 3
   },
   "file_extension": ".py",
   "mimetype": "text/x-python",
   "name": "python",
   "nbconvert_exporter": "python",
   "pygments_lexer": "ipython3",
   "version": "3.11.9"
  }
 },
 "nbformat": 4,
 "nbformat_minor": 2
}
