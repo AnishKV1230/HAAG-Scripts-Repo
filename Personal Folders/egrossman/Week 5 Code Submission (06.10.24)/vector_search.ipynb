{
 "cells": [
  {
   "cell_type": "code",
   "execution_count": 3,
   "metadata": {},
   "outputs": [
    {
     "name": "stderr",
     "output_type": "stream",
     "text": [
      "/Users/elangrossman/miniconda3/envs/nfhm/lib/python3.11/site-packages/tqdm/auto.py:21: TqdmWarning: IProgress not found. Please update jupyter and ipywidgets. See https://ipywidgets.readthedocs.io/en/stable/user_install.html\n",
      "  from .autonotebook import tqdm as notebook_tqdm\n"
     ]
    }
   ],
   "source": [
    "import pandas as pd\n",
    "from PIL import Image\n",
    "import open_clip\n",
    "import requests\n",
    "from io import BytesIO\n",
    "from concurrent.futures import ThreadPoolExecutor\n",
    "import numpy as np\n",
    "import math\n",
    "import json\n"
   ]
  },
  {
   "cell_type": "code",
   "execution_count": 4,
   "metadata": {},
   "outputs": [],
   "source": [
    "input_file_name = \"/Users/elangrossman/Downloads/idigbio.json\""
   ]
  },
  {
   "cell_type": "markdown",
   "metadata": {},
   "source": []
  },
  {
   "cell_type": "code",
   "execution_count": 5,
   "metadata": {},
   "outputs": [],
   "source": [
    "\n",
    "model, _, preprocess = open_clip.create_model_and_transforms('ViT-B-32', pretrained='laion2b_s34b_b79k')\n",
    "model.eval()  # model in train mode by default, impacts some models with BatchNorm or stochastic depth active\n",
    "tokenizer = open_clip.get_tokenizer('ViT-B-32')"
   ]
  },
  {
   "cell_type": "code",
   "execution_count": 6,
   "metadata": {},
   "outputs": [],
   "source": [
    "def extract_data(file_location):\n",
    "    with open (file_location, \"rb\") as f:\n",
    "        lines = f.readlines()\n",
    "    new_lines = []\n",
    "    for line in lines:\n",
    "        line = json.loads(line)\n",
    "        \n",
    "        media = line[\"media\"]\n",
    "        for med in media:\n",
    "            d = {}\n",
    "            d[\"scientificName\"] = line[\"data\"][\"dwc:scientificName\"]\n",
    "            if \"ac:accessURI\" in med[\"data\"]:\n",
    "                url = med[\"data\"][\"ac:accessURI\"]\n",
    "                d[\"media_location\"] = url\n",
    "                new_lines.append(d)\n",
    "\n",
    "    return pd.DataFrame(new_lines)\n",
    "    "
   ]
  },
  {
   "cell_type": "code",
   "execution_count": 21,
   "metadata": {},
   "outputs": [],
   "source": [
    "def download_image_and_preprocess(image_location):\n",
    "    \"\"\"This method downloads an array of images and outputs thier vectors in memory\"\"\"\n",
    "    content = requests.get(image_location).content\n",
    "    img = Image.open(BytesIO(content))\n",
    "    image = preprocess(img).unsqueeze(0)\n",
    "    return model.encode_image(image)\n",
    "\n",
    "###\n",
    "def process_images(file_location):\n",
    "    \"\"\"This section details how to convert these batches to vectors! We use multi-threading to download many images at once. \n",
    "    We don't save any of the images and only compute them in memory. The next step will\n",
    "    \"\"\"\n",
    "\n",
    "    df = extract_data(file_location)\n",
    "\n",
    "    batch_size=10\n",
    "    num_chunks = math.ceil(len(df)/batch_size)\n",
    "\n",
    "    with open(\"vectors.txt\", \"a\") as out_file:\n",
    "\n",
    "        for chunk in np.array_split(df, num_chunks):\n",
    "            media_locations = chunk[\"media_location\"]\n",
    "            with ThreadPoolExecutor(max_workers=5) as executor:\n",
    "                downloaded_images = executor.map(download_image_and_preprocess, media_locations)\n",
    "\n",
    "                ### Do something with images (probably store them somewhere)\n",
    "                for image in downloaded_images:\n",
    "                    line = ', '.join(map(str, image.detach().numpy().tolist()))\n",
    "\n",
    "                    out_file.write(line + '\\n')\n",
    "                    \n",
    "\n",
    "    # return all_images\n",
    "\n"
   ]
  },
  {
   "cell_type": "code",
   "execution_count": 22,
   "metadata": {},
   "outputs": [],
   "source": [
    "process_images(input_file_name)"
   ]
  },
  {
   "cell_type": "markdown",
   "metadata": {},
   "source": []
  }
 ],
 "metadata": {
  "kernelspec": {
   "display_name": "nfhm",
   "language": "python",
   "name": "python3"
  },
  "language_info": {
   "codemirror_mode": {
    "name": "ipython",
    "version": 3
   },
   "file_extension": ".py",
   "mimetype": "text/x-python",
   "name": "python",
   "nbconvert_exporter": "python",
   "pygments_lexer": "ipython3",
   "version": "3.11.9"
  }
 },
 "nbformat": 4,
 "nbformat_minor": 2
}
