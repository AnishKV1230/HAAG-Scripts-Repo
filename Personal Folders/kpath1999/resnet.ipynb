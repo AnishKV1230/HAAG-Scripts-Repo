{
 "cells": [
  {
   "cell_type": "markdown",
   "id": "f75033a7-f66d-4657-ac03-3d2f1656fd62",
   "metadata": {},
   "source": [
    "## ResNet Implementation in PyTorch\n",
    "\n",
    "Credit goes to Jay Patwardhan for providing an example implementation of ResNet 50, 101, and 152 in PyTorch. This work is inspired by the paper \"Deep Residual Learning for Image Recognition\" by Kaiming He, Xiangyu Zhang, Shaoqing Ren, Jian Sun."
   ]
  },
  {
   "cell_type": "code",
   "execution_count": 2,
   "id": "c7599d09-6d62-43d9-9874-3e76f692c6da",
   "metadata": {
    "tags": []
   },
   "outputs": [],
   "source": [
    "import warnings\n",
    "warnings.filterwarnings(\"ignore\")"
   ]
  },
  {
   "cell_type": "code",
   "execution_count": 3,
   "id": "f8ed8aad-3b25-46fa-a0da-49eb5945ff0b",
   "metadata": {
    "tags": []
   },
   "outputs": [],
   "source": [
    "import torchvision.models as models\n",
    "r3d_18 = models.video.r3d_18(pretrained=True)"
   ]
  },
  {
   "cell_type": "code",
   "execution_count": 5,
   "id": "f859502d-7810-4ce9-baf3-816a0914679f",
   "metadata": {
    "tags": []
   },
   "outputs": [],
   "source": [
    "import torch\n",
    "import torchvision\n",
    "import torchvision.transforms as transforms\n",
    "import torch.nn as nn\n",
    "import torch.nn.functional as F\n",
    "import torch.optim as optim\n",
    "\n",
    "from ResNet import Bottleneck, ResNet, ResNet50"
   ]
  },
  {
   "cell_type": "code",
   "execution_count": 6,
   "id": "a658d3b7-2e8e-40fc-8064-22fcb478179a",
   "metadata": {
    "tags": []
   },
   "outputs": [],
   "source": [
    "transform_train = transforms.Compose([\n",
    "    transforms.RandomHorizontalFlip(),\n",
    "    transforms.RandomCrop(32, padding=4),\n",
    "    transforms.ToTensor(),\n",
    "    transforms.Normalize((0.5, 0.5, 0.5), (0.5, 0.5, 0.5)),\n",
    "])\n",
    "\n",
    "transform_test = transforms.Compose([\n",
    "    transforms.ToTensor(),\n",
    "    transforms.Normalize((0.5, 0.5, 0.5), (0.5, 0.5, 0.5)),\n",
    "])"
   ]
  },
  {
   "cell_type": "code",
   "execution_count": 7,
   "id": "93f477f9-1692-4a2f-aba9-6b77b5ce2119",
   "metadata": {
    "tags": []
   },
   "outputs": [
    {
     "name": "stdout",
     "output_type": "stream",
     "text": [
      "Downloading https://www.cs.toronto.edu/~kriz/cifar-10-python.tar.gz to ./data/cifar-10-python.tar.gz\n"
     ]
    },
    {
     "name": "stderr",
     "output_type": "stream",
     "text": [
      "100%|██████████| 170498071/170498071 [00:01<00:00, 110573227.89it/s]\n"
     ]
    },
    {
     "name": "stdout",
     "output_type": "stream",
     "text": [
      "Extracting ./data/cifar-10-python.tar.gz to ./data\n",
      "Files already downloaded and verified\n"
     ]
    }
   ],
   "source": [
    "train = torchvision.datasets.CIFAR10(root='./data', train=True, download=True, transform=transform_train)\n",
    "\n",
    "trainloader = torch.utils.data.DataLoader(train, batch_size=128, shuffle=True, num_workers=2)\n",
    "\n",
    "test = torchvision.datasets.CIFAR10(root='./data', train=False, download=True, transform=transform_test)\n",
    "\n",
    "testloader = torch.utils.data.DataLoader(test, batch_size=128,shuffle=False, num_workers=2)"
   ]
  },
  {
   "cell_type": "code",
   "execution_count": 8,
   "id": "8dba20a9-96e8-4813-b874-e03bc2a30c22",
   "metadata": {
    "tags": []
   },
   "outputs": [],
   "source": [
    "classes = ['plane', 'car', 'bird', 'cat', 'deer', 'dog', 'frog', 'horse', 'ship', 'truck']"
   ]
  },
  {
   "cell_type": "code",
   "execution_count": 9,
   "id": "86e6d1dc-cd47-44cd-aa20-6b79f813beee",
   "metadata": {
    "tags": []
   },
   "outputs": [],
   "source": [
    "net = ResNet50(10).to('cuda')\n",
    "\n",
    "criterion = nn.CrossEntropyLoss()\n",
    "optimizer = optim.SGD(net.parameters(), lr=0.1, momentum=0.9, weight_decay=0.0001)\n",
    "scheduler = optim.lr_scheduler.ReduceLROnPlateau(optimizer, factor = 0.1, patience=5)"
   ]
  },
  {
   "cell_type": "code",
   "execution_count": null,
   "id": "a31562e1-553a-40e0-bcdf-b318b3ed43e6",
   "metadata": {
    "tags": []
   },
   "outputs": [
    {
     "name": "stdout",
     "output_type": "stream",
     "text": [
      "Loss [1, 100](epoch, minibatch):  8.286106350421905\n",
      "Loss [1, 200](epoch, minibatch):  3.2815474700927734\n",
      "Loss [1, 300](epoch, minibatch):  2.5430442595481875\n",
      "Loss [2, 100](epoch, minibatch):  2.323899998664856\n",
      "Loss [2, 200](epoch, minibatch):  2.2045424485206606\n",
      "Loss [2, 300](epoch, minibatch):  2.104859755039215\n",
      "Loss [3, 100](epoch, minibatch):  2.020149667263031\n",
      "Loss [3, 200](epoch, minibatch):  1.9646476566791535\n",
      "Loss [3, 300](epoch, minibatch):  1.921252702474594\n",
      "Loss [4, 100](epoch, minibatch):  1.8857625865936278\n",
      "Loss [4, 200](epoch, minibatch):  1.829829285144806\n",
      "Loss [4, 300](epoch, minibatch):  1.8138708925247193\n",
      "Loss [5, 100](epoch, minibatch):  1.7948732697963714\n",
      "Loss [5, 200](epoch, minibatch):  1.7556228053569793\n",
      "Loss [5, 300](epoch, minibatch):  1.7355257058143616\n",
      "Loss [6, 100](epoch, minibatch):  1.7004099762439728\n",
      "Loss [6, 200](epoch, minibatch):  1.655918046236038\n",
      "Loss [6, 300](epoch, minibatch):  1.6366480994224548\n",
      "Loss [7, 100](epoch, minibatch):  1.6395927166938782\n",
      "Loss [7, 200](epoch, minibatch):  1.5774386620521545\n",
      "Loss [7, 300](epoch, minibatch):  1.577424991130829\n",
      "Loss [8, 100](epoch, minibatch):  1.5810376799106598\n",
      "Loss [8, 200](epoch, minibatch):  1.5148208022117615\n",
      "Loss [8, 300](epoch, minibatch):  1.508094108104706\n",
      "Loss [9, 100](epoch, minibatch):  1.5090131390094756\n",
      "Loss [9, 200](epoch, minibatch):  1.4697161722183227\n",
      "Loss [9, 300](epoch, minibatch):  1.4742887115478516\n",
      "Loss [10, 100](epoch, minibatch):  1.4658923435211182\n",
      "Loss [10, 200](epoch, minibatch):  1.4379072093963623\n",
      "Loss [10, 300](epoch, minibatch):  1.4170388972759247\n",
      "Loss [11, 100](epoch, minibatch):  1.4066862845420838\n",
      "Loss [11, 200](epoch, minibatch):  1.3884314906597137\n",
      "Loss [11, 300](epoch, minibatch):  1.3818863034248352\n",
      "Loss [12, 100](epoch, minibatch):  1.3655222702026366\n",
      "Loss [12, 200](epoch, minibatch):  1.3343404757976531\n",
      "Loss [12, 300](epoch, minibatch):  1.334935029745102\n",
      "Loss [13, 100](epoch, minibatch):  1.3153333008289336\n",
      "Loss [13, 200](epoch, minibatch):  1.2867847990989685\n",
      "Loss [13, 300](epoch, minibatch):  1.3013157093524932\n",
      "Loss [14, 100](epoch, minibatch):  1.2687340044975282\n",
      "Loss [14, 200](epoch, minibatch):  1.2556345462799072\n",
      "Loss [14, 300](epoch, minibatch):  1.2331987535953521\n",
      "Loss [15, 100](epoch, minibatch):  1.2269003009796142\n",
      "Loss [15, 200](epoch, minibatch):  1.216026342511177\n",
      "Loss [15, 300](epoch, minibatch):  1.1982909959554673\n",
      "Loss [16, 100](epoch, minibatch):  1.1964344781637193\n",
      "Loss [16, 200](epoch, minibatch):  1.1736268651485444\n",
      "Loss [16, 300](epoch, minibatch):  1.168365976214409\n",
      "Loss [17, 100](epoch, minibatch):  1.1492119961977005\n",
      "Loss [17, 200](epoch, minibatch):  1.1334701389074326\n",
      "Loss [17, 300](epoch, minibatch):  1.1247983705997466\n",
      "Loss [18, 100](epoch, minibatch):  1.1031710356473923\n",
      "Loss [18, 200](epoch, minibatch):  1.1024993485212327\n",
      "Loss [18, 300](epoch, minibatch):  1.0755995845794677\n",
      "Loss [19, 100](epoch, minibatch):  1.0833420526981354\n",
      "Loss [19, 200](epoch, minibatch):  1.0866122031211853\n",
      "Loss [19, 300](epoch, minibatch):  1.0418931674957275\n",
      "Loss [20, 100](epoch, minibatch):  1.0407921087741852\n",
      "Loss [20, 200](epoch, minibatch):  1.0075832790136336\n",
      "Loss [20, 300](epoch, minibatch):  1.0248741436004638\n",
      "Loss [21, 100](epoch, minibatch):  1.020946136713028\n",
      "Loss [21, 200](epoch, minibatch):  0.9922922819852829\n",
      "Loss [21, 300](epoch, minibatch):  0.9626249587535858\n",
      "Loss [22, 100](epoch, minibatch):  0.9594159007072449\n",
      "Loss [22, 200](epoch, minibatch):  0.9499817126989365\n",
      "Loss [22, 300](epoch, minibatch):  0.9521847933530807\n",
      "Loss [23, 100](epoch, minibatch):  0.9373598003387451\n",
      "Loss [23, 200](epoch, minibatch):  0.951499804854393\n",
      "Loss [23, 300](epoch, minibatch):  0.9319625055789947\n",
      "Loss [24, 100](epoch, minibatch):  0.9013672310113907\n",
      "Loss [24, 200](epoch, minibatch):  0.8904715418815613\n",
      "Loss [24, 300](epoch, minibatch):  0.9117892199754715\n",
      "Loss [25, 100](epoch, minibatch):  0.8939217740297317\n",
      "Loss [25, 200](epoch, minibatch):  0.8805974113941193\n",
      "Loss [25, 300](epoch, minibatch):  0.8731496071815491\n",
      "Loss [26, 100](epoch, minibatch):  0.8542024254798889\n",
      "Loss [26, 200](epoch, minibatch):  0.8843849003314972\n",
      "Loss [26, 300](epoch, minibatch):  0.861122944355011\n",
      "Loss [27, 100](epoch, minibatch):  0.8308350133895874\n",
      "Loss [27, 200](epoch, minibatch):  0.8440614604949951\n",
      "Loss [27, 300](epoch, minibatch):  0.8264407646656037\n",
      "Loss [28, 100](epoch, minibatch):  0.8386102098226548\n",
      "Loss [28, 200](epoch, minibatch):  0.8275843298435211\n",
      "Loss [28, 300](epoch, minibatch):  0.8527587991952896\n",
      "Loss [29, 100](epoch, minibatch):  0.8595824021100998\n",
      "Loss [29, 200](epoch, minibatch):  0.8175370401144028\n",
      "Loss [29, 300](epoch, minibatch):  0.7968604320287704\n",
      "Loss [30, 100](epoch, minibatch):  0.81482450902462\n",
      "Loss [30, 200](epoch, minibatch):  0.7911584693193435\n",
      "Loss [30, 300](epoch, minibatch):  0.7827560782432557\n",
      "Loss [31, 100](epoch, minibatch):  0.7655711096525192\n",
      "Loss [31, 200](epoch, minibatch):  0.7515218108892441\n",
      "Loss [31, 300](epoch, minibatch):  0.774519897699356\n",
      "Loss [32, 100](epoch, minibatch):  0.7470498991012573\n",
      "Loss [32, 200](epoch, minibatch):  0.7297880029678345\n",
      "Loss [32, 300](epoch, minibatch):  0.7200090795755386\n",
      "Loss [33, 100](epoch, minibatch):  0.720513201057911\n",
      "Loss [33, 200](epoch, minibatch):  0.7227836203575134\n",
      "Loss [33, 300](epoch, minibatch):  0.7179528951644898\n",
      "Loss [34, 100](epoch, minibatch):  0.7082787266373635\n",
      "Loss [34, 200](epoch, minibatch):  0.6965672254562378\n",
      "Loss [34, 300](epoch, minibatch):  0.7044251781702041\n",
      "Loss [35, 100](epoch, minibatch):  0.6966632890701294\n",
      "Loss [35, 200](epoch, minibatch):  0.6787353032827377\n",
      "Loss [35, 300](epoch, minibatch):  0.6778308057785034\n",
      "Loss [36, 100](epoch, minibatch):  0.6584131783246994\n",
      "Loss [36, 200](epoch, minibatch):  0.6785956433415413\n",
      "Loss [36, 300](epoch, minibatch):  0.6632036373019219\n",
      "Loss [37, 100](epoch, minibatch):  0.6701786339282989\n",
      "Loss [37, 200](epoch, minibatch):  0.6580227893590928\n",
      "Loss [37, 300](epoch, minibatch):  0.6552164974808693\n",
      "Loss [38, 100](epoch, minibatch):  0.637633764743805\n",
      "Loss [38, 200](epoch, minibatch):  0.6550599041581154\n",
      "Loss [38, 300](epoch, minibatch):  0.6415316072106362\n",
      "Loss [39, 100](epoch, minibatch):  0.6343140432238579\n",
      "Loss [39, 200](epoch, minibatch):  0.6317001065611839\n",
      "Loss [39, 300](epoch, minibatch):  0.6423920747637749\n",
      "Loss [40, 100](epoch, minibatch):  0.6163164007663727\n",
      "Loss [40, 200](epoch, minibatch):  0.6243402725458145\n",
      "Loss [40, 300](epoch, minibatch):  0.6144799560308456\n",
      "Loss [41, 100](epoch, minibatch):  0.6218331995606422\n",
      "Loss [41, 200](epoch, minibatch):  0.6032891616225242\n",
      "Loss [41, 300](epoch, minibatch):  0.6099074611067772\n",
      "Loss [42, 100](epoch, minibatch):  0.6008578243851662\n",
      "Loss [42, 200](epoch, minibatch):  0.6052947643399239\n",
      "Loss [42, 300](epoch, minibatch):  0.6218903136253356\n",
      "Loss [43, 100](epoch, minibatch):  0.584081899523735\n",
      "Loss [43, 200](epoch, minibatch):  0.5929509854316711\n",
      "Loss [43, 300](epoch, minibatch):  0.6073036342859268\n",
      "Loss [44, 100](epoch, minibatch):  0.6439911088347435\n",
      "Loss [44, 200](epoch, minibatch):  0.6044284147024155\n",
      "Loss [44, 300](epoch, minibatch):  0.5922572553157807\n",
      "Loss [45, 100](epoch, minibatch):  0.5846297800540924\n",
      "Loss [45, 200](epoch, minibatch):  0.588170630633831\n",
      "Loss [45, 300](epoch, minibatch):  0.5970340290665627\n",
      "Loss [46, 100](epoch, minibatch):  0.5669453051686287\n",
      "Loss [46, 200](epoch, minibatch):  0.5823024028539657\n",
      "Loss [46, 300](epoch, minibatch):  0.5674503543972969\n",
      "Loss [47, 100](epoch, minibatch):  0.5644601109623909\n",
      "Loss [47, 200](epoch, minibatch):  0.5798093184828759\n",
      "Loss [47, 300](epoch, minibatch):  0.572167866230011\n",
      "Loss [48, 100](epoch, minibatch):  0.5672658774256706\n",
      "Loss [48, 200](epoch, minibatch):  0.5570285075902939\n",
      "Loss [48, 300](epoch, minibatch):  0.57630450963974\n",
      "Loss [49, 100](epoch, minibatch):  0.5447208625078201\n",
      "Loss [49, 200](epoch, minibatch):  0.5812272650003433\n",
      "Loss [49, 300](epoch, minibatch):  0.5545074793696404\n",
      "Loss [50, 100](epoch, minibatch):  0.5419606077671051\n",
      "Loss [50, 200](epoch, minibatch):  0.5416196638345718\n",
      "Loss [50, 300](epoch, minibatch):  0.5432554411888123\n",
      "Loss [51, 100](epoch, minibatch):  0.5386664274334908\n",
      "Loss [51, 200](epoch, minibatch):  0.5326614370942115\n",
      "Loss [51, 300](epoch, minibatch):  0.5513142260909081\n",
      "Loss [52, 100](epoch, minibatch):  0.5373875972628593\n",
      "Loss [52, 200](epoch, minibatch):  0.5451149243116379\n",
      "Loss [52, 300](epoch, minibatch):  0.5373597791790963\n"
     ]
    }
   ],
   "source": [
    "EPOCHS = 200\n",
    "for epoch in range(EPOCHS):\n",
    "    losses = []\n",
    "    running_loss = 0\n",
    "    for i, inp in enumerate(trainloader):\n",
    "        inputs, labels = inp\n",
    "        inputs, labels = inputs.to('cuda'), labels.to('cuda')\n",
    "        optimizer.zero_grad()\n",
    "    \n",
    "        outputs = net(inputs)\n",
    "        loss = criterion(outputs, labels)\n",
    "        losses.append(loss.item())\n",
    "\n",
    "        loss.backward()\n",
    "        optimizer.step()\n",
    "        \n",
    "        running_loss += loss.item()\n",
    "        \n",
    "        if i%100 == 0 and i > 0:\n",
    "            print(f'Loss [{epoch+1}, {i}](epoch, minibatch): ', running_loss / 100)\n",
    "            running_loss = 0.0\n",
    "\n",
    "    avg_loss = sum(losses)/len(losses)\n",
    "    scheduler.step(avg_loss)\n",
    "            \n",
    "print('Training Done')"
   ]
  },
  {
   "cell_type": "code",
   "execution_count": null,
   "id": "9bb8dc4d-ce22-47ed-b50f-0b5f8f3c6992",
   "metadata": {
    "tags": []
   },
   "outputs": [],
   "source": [
    "correct = 0\n",
    "total = 0\n",
    "\n",
    "with torch.no_grad():\n",
    "    for data in testloader:\n",
    "        images, labels = data\n",
    "        images, labels = images.to('cuda'), labels.to('cuda')\n",
    "        outputs = net(images)\n",
    "        \n",
    "        _, predicted = torch.max(outputs.data, 1)\n",
    "        total += labels.size(0)\n",
    "        correct += (predicted == labels).sum().item()\n",
    "print('Accuracy on 10,000 test images: ', 100*(correct/total), '%')"
   ]
  }
 ],
 "metadata": {
  "kernelspec": {
   "display_name": "Python 3 (ipykernel)",
   "language": "python",
   "name": "python3"
  },
  "language_info": {
   "codemirror_mode": {
    "name": "ipython",
    "version": 3
   },
   "file_extension": ".py",
   "mimetype": "text/x-python",
   "name": "python",
   "nbconvert_exporter": "python",
   "pygments_lexer": "ipython3",
   "version": "3.11.7"
  }
 },
 "nbformat": 4,
 "nbformat_minor": 5
}
