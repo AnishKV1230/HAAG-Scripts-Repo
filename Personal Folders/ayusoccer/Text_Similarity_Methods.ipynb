{
  "nbformat": 4,
  "nbformat_minor": 0,
  "metadata": {
    "colab": {
      "provenance": [],
      "toc_visible": true
    },
    "kernelspec": {
      "name": "python3",
      "display_name": "Python 3"
    },
    "language_info": {
      "name": "python"
    }
  },
  "cells": [
    {
      "cell_type": "markdown",
      "source": [
        "# Cosine Similarity"
      ],
      "metadata": {
        "id": "7Uam1dGHoGAt"
      }
    },
    {
      "cell_type": "markdown",
      "source": [
        "There are several ways to calculate the similarity between two blocks of text in Python. A common method is to use cosine similarity, which measures the cosine of the angle between two vectors in a multidimensional space. The code below will print the cosine similarity score between the two input text blocks, which ranges from 0 to 1. A score closer to 1 indicates higher similarity."
      ],
      "metadata": {
        "id": "q7Z5no92n8LG"
      }
    },
    {
      "cell_type": "code",
      "execution_count": 20,
      "metadata": {
        "colab": {
          "base_uri": "https://localhost:8080/"
        },
        "id": "YbcuUJKlmuRi",
        "outputId": "a7e65274-c1b9-45e6-ab91-927a2751c058"
      },
      "outputs": [
        {
          "output_type": "stream",
          "name": "stdout",
          "text": [
            "Similarity score: 0.6201272584968651\n"
          ]
        },
        {
          "output_type": "stream",
          "name": "stderr",
          "text": [
            "[nltk_data] Downloading package stopwords to /root/nltk_data...\n",
            "[nltk_data]   Unzipping corpora/stopwords.zip.\n"
          ]
        }
      ],
      "source": [
        "import nltk\n",
        "from sklearn.feature_extraction.text import TfidfVectorizer\n",
        "from sklearn.metrics.pairwise import cosine_similarity\n",
        "import string\n",
        "\n",
        "# Download the stopwords from nltk\n",
        "nltk.download('stopwords')\n",
        "from nltk.corpus import stopwords\n",
        "\n",
        "# Function to preprocess the text\n",
        "def preprocess_text(text):\n",
        "    # Convert text to lowercase\n",
        "    text = text.lower()\n",
        "    # Remove punctuation\n",
        "    text = text.translate(str.maketrans('', '', string.punctuation))\n",
        "    # Remove stopwords\n",
        "    stop_words = set(stopwords.words('english'))\n",
        "    text = ' '.join(word for word in text.split() if word not in stop_words)\n",
        "    return text\n",
        "\n",
        "# Function to calculate cosine similarity between two texts\n",
        "def calculate_similarity(text1, text2):\n",
        "    # Preprocess the texts\n",
        "    text1 = preprocess_text(text1)\n",
        "    text2 = preprocess_text(text2)\n",
        "\n",
        "    # Create the TfidfVectorizer object\n",
        "    vectorizer = TfidfVectorizer()\n",
        "    # Transform the texts to tf-idf vectors\n",
        "    vectors = vectorizer.fit_transform([text1, text2])\n",
        "\n",
        "    # Calculate cosine similarity\n",
        "    similarity_matrix = cosine_similarity(vectors)\n",
        "    similarity_score = similarity_matrix[0][1]\n",
        "\n",
        "    return similarity_score\n",
        "\n",
        "# Example texts\n",
        "text1 = \"Natural language processing makes it possible for computers to understand human language.\"\n",
        "text2 = \"Computers are able to comprehend human language through natural language processing.\"\n",
        "\n",
        "# Calculate similarity\n",
        "similarity = calculate_similarity(text1, text2)\n",
        "print(f\"Similarity score: {similarity}\")"
      ]
    },
    {
      "cell_type": "markdown",
      "source": [
        "# Jaccard Similarity"
      ],
      "metadata": {
        "id": "r0cvANFyoeqZ"
      }
    },
    {
      "cell_type": "code",
      "source": [
        "import nltk\n",
        "import string\n",
        "\n",
        "# Download the stopwords from nltk\n",
        "nltk.download('stopwords')\n",
        "from nltk.corpus import stopwords\n",
        "\n",
        "# Function to preprocess the text\n",
        "def preprocess_text_jacc(text):\n",
        "    # Convert text to lowercase\n",
        "    text = text.lower()\n",
        "    # Remove punctuation\n",
        "    text = text.translate(str.maketrans('', '', string.punctuation))\n",
        "    # Tokenize the text\n",
        "    words = text.split()\n",
        "    # Remove stopwords\n",
        "    stop_words = set(stopwords.words('english'))\n",
        "    words = [word for word in words if word not in stop_words]\n",
        "    return words\n",
        "\n",
        "# Function to calculate Jaccard similarity between two texts\n",
        "def calculate_jaccard_similarity(text1, text2):\n",
        "    # Preprocess the texts\n",
        "    words1 = preprocess_text_jacc(text1)\n",
        "    words2 = preprocess_text_jacc(text2)\n",
        "\n",
        "    # Convert the lists of words to sets\n",
        "    set1 = set(words1)\n",
        "    set2 = set(words2)\n",
        "\n",
        "    # Calculate intersection and union\n",
        "    intersection = set1.intersection(set2)\n",
        "    union = set1.union(set2)\n",
        "\n",
        "    # Calculate Jaccard similarity\n",
        "    jaccard_similarity = len(intersection) / len(union)\n",
        "\n",
        "    return jaccard_similarity\n",
        "\n",
        "# Example texts\n",
        "text1 = \"Natural language processing makes it possible for computers to understand human language.\"\n",
        "text2 = \"Computers are able to comprehend human language through natural language processing.\"\n",
        "\n",
        "# Calculate similarity\n",
        "similarity = calculate_jaccard_similarity(text1, text2)\n",
        "print(f\"Jaccard Similarity score: {similarity}\")"
      ],
      "metadata": {
        "colab": {
          "base_uri": "https://localhost:8080/"
        },
        "id": "R8xG8te7of_b",
        "outputId": "23ff62de-2618-4c76-d2cb-61d15241fd7b"
      },
      "execution_count": 2,
      "outputs": [
        {
          "output_type": "stream",
          "name": "stdout",
          "text": [
            "Jaccard Similarity score: 0.5\n"
          ]
        },
        {
          "output_type": "stream",
          "name": "stderr",
          "text": [
            "[nltk_data] Downloading package stopwords to /root/nltk_data...\n",
            "[nltk_data]   Package stopwords is already up-to-date!\n"
          ]
        }
      ]
    },
    {
      "cell_type": "markdown",
      "source": [
        "# Document Embeddings"
      ],
      "metadata": {
        "id": "6lG-vcBPoxOF"
      }
    },
    {
      "cell_type": "code",
      "source": [
        "import gensim\n",
        "from gensim.models.doc2vec import Doc2Vec, TaggedDocument\n",
        "import nltk\n",
        "import string\n",
        "\n",
        "# Download the stopwords from nltk\n",
        "nltk.download('stopwords')\n",
        "from nltk.corpus import stopwords\n",
        "\n",
        "# Function to preprocess the text\n",
        "def preprocess_text(text):\n",
        "    # Convert text to lowercase\n",
        "    text = text.lower()\n",
        "    # Remove punctuation\n",
        "    text = text.translate(str.maketrans('', '', string.punctuation))\n",
        "    # Tokenize the text\n",
        "    words = text.split()\n",
        "    # Remove stopwords\n",
        "    stop_words = set(stopwords.words('english'))\n",
        "    words = [word for word in words if word not in stop_words]\n",
        "    return words\n",
        "\n",
        "# Example texts\n",
        "text1 = \"Natural language processing makes it possible for computers to understand human language.\"\n",
        "text2 = \"Computers are able to comprehend human language through natural language processing.\"\n",
        "\n",
        "# Preprocess the texts\n",
        "documents = [preprocess_text(text1), preprocess_text(text2)]\n",
        "\n",
        "# Create TaggedDocument objects for training\n",
        "tagged_documents = [TaggedDocument(doc, [i]) for i, doc in enumerate(documents)]\n",
        "\n",
        "# Train a Doc2Vec model\n",
        "model = Doc2Vec(tagged_documents, vector_size=50, window=2, min_count=1, workers=4)\n",
        "\n",
        "# Infer vectors for the documents\n",
        "vector1 = model.infer_vector(preprocess_text(text1))\n",
        "vector2 = model.infer_vector(preprocess_text(text2))\n",
        "\n",
        "# Calculate cosine similarity\n",
        "#similarity = calculate_similarity(vector1, vector2)\n",
        "# Create the TfidfVectorizer object\n",
        "vectorizer = TfidfVectorizer()\n",
        "# Transform the texts to tf-idf vectors\n",
        "vectors = vectorizer.fit_transform([text1, text2])\n",
        "\n",
        "# Calculate cosine similarity\n",
        "similarity_matrix = cosine_similarity(vectors)\n",
        "similarity = similarity_matrix[0][1]\n",
        "\n",
        "print(f\"Doc2Vec Similarity score: {similarity}\")"
      ],
      "metadata": {
        "colab": {
          "base_uri": "https://localhost:8080/"
        },
        "id": "u6JB6a6mozEk",
        "outputId": "007a46ed-f065-48f1-964b-261b4a7df4dd"
      },
      "execution_count": 5,
      "outputs": [
        {
          "output_type": "stream",
          "name": "stdout",
          "text": [
            "Doc2Vec Similarity score: 0.5038711573210972\n"
          ]
        },
        {
          "output_type": "stream",
          "name": "stderr",
          "text": [
            "[nltk_data] Downloading package stopwords to /root/nltk_data...\n",
            "[nltk_data]   Package stopwords is already up-to-date!\n"
          ]
        }
      ]
    },
    {
      "cell_type": "markdown",
      "source": [
        "# Preprocess Data"
      ],
      "metadata": {
        "id": "pOGeciDbAksa"
      }
    },
    {
      "cell_type": "code",
      "source": [
        "\n",
        "import os\n",
        "import pandas as pd\n",
        "\n",
        "mentees = pd.read_excel('./drive/MyDrive/Georgia Tech/CS 8903/mentees.xlsx')\n",
        "mentors = pd.read_excel('./drive/MyDrive/Georgia Tech/CS 8903/mentors.xlsx')\n",
        "#print(mentees.head())\n",
        "mentors.head()[0:1]"
      ],
      "metadata": {
        "colab": {
          "base_uri": "https://localhost:8080/",
          "height": 257
        },
        "id": "6fSUHGO6EaZD",
        "outputId": "23506e2c-6665-45da-93b4-4291b8ea29c9"
      },
      "execution_count": 15,
      "outputs": [
        {
          "output_type": "execute_result",
          "data": {
            "text/plain": [
              "   Id          Start time     Completion time                Email  \\\n",
              "0   1 2024-05-27 10:41:14 2024-05-27 10:44:05  jshimer3@gatech.edu   \n",
              "\n",
              "           Name     Full name Georgia Tech email address (.edu)  \\\n",
              "0  Jacob Shimer  Jacob Shimer               jshimer3@gatech.edu   \n",
              "\n",
              "  Please describe your past professional experience.  \\\n",
              "0  4 years as a backend programmer for a R&D comp...   \n",
              "\n",
              "      Please describe your past academic experience.  \\\n",
              "0  Achieved my Bachelors of Science in Computer S...   \n",
              "\n",
              "  What are your goals from participating in this program?  \\\n",
              "0                                                NaN        \n",
              "\n",
              "  Have you ever published an academic paper?  \\\n",
              "0                                         No   \n",
              "\n",
              "    What are your plans after graduating from OMSCS?  \\\n",
              "0  No plans currently, continuing working as a so...   \n",
              "\n",
              "                 Please upload your resume as a PDF.  \n",
              "0  https://gtvault-my.sharepoint.com/personal/apa...  "
            ],
            "text/html": [
              "\n",
              "  <div id=\"df-a041ea22-4ea2-45d9-a720-370c23e2a27d\" class=\"colab-df-container\">\n",
              "    <div>\n",
              "<style scoped>\n",
              "    .dataframe tbody tr th:only-of-type {\n",
              "        vertical-align: middle;\n",
              "    }\n",
              "\n",
              "    .dataframe tbody tr th {\n",
              "        vertical-align: top;\n",
              "    }\n",
              "\n",
              "    .dataframe thead th {\n",
              "        text-align: right;\n",
              "    }\n",
              "</style>\n",
              "<table border=\"1\" class=\"dataframe\">\n",
              "  <thead>\n",
              "    <tr style=\"text-align: right;\">\n",
              "      <th></th>\n",
              "      <th>Id</th>\n",
              "      <th>Start time</th>\n",
              "      <th>Completion time</th>\n",
              "      <th>Email</th>\n",
              "      <th>Name</th>\n",
              "      <th>Full name</th>\n",
              "      <th>Georgia Tech email address (.edu)</th>\n",
              "      <th>Please describe your past professional experience.</th>\n",
              "      <th>Please describe your past academic experience.</th>\n",
              "      <th>What are your goals from participating in this program?</th>\n",
              "      <th>Have you ever published an academic paper?</th>\n",
              "      <th>What are your plans after graduating from OMSCS?</th>\n",
              "      <th>Please upload your resume as a PDF.</th>\n",
              "    </tr>\n",
              "  </thead>\n",
              "  <tbody>\n",
              "    <tr>\n",
              "      <th>0</th>\n",
              "      <td>1</td>\n",
              "      <td>2024-05-27 10:41:14</td>\n",
              "      <td>2024-05-27 10:44:05</td>\n",
              "      <td>jshimer3@gatech.edu</td>\n",
              "      <td>Jacob Shimer</td>\n",
              "      <td>Jacob Shimer</td>\n",
              "      <td>jshimer3@gatech.edu</td>\n",
              "      <td>4 years as a backend programmer for a R&amp;D comp...</td>\n",
              "      <td>Achieved my Bachelors of Science in Computer S...</td>\n",
              "      <td>NaN</td>\n",
              "      <td>No</td>\n",
              "      <td>No plans currently, continuing working as a so...</td>\n",
              "      <td>https://gtvault-my.sharepoint.com/personal/apa...</td>\n",
              "    </tr>\n",
              "  </tbody>\n",
              "</table>\n",
              "</div>\n",
              "    <div class=\"colab-df-buttons\">\n",
              "\n",
              "  <div class=\"colab-df-container\">\n",
              "    <button class=\"colab-df-convert\" onclick=\"convertToInteractive('df-a041ea22-4ea2-45d9-a720-370c23e2a27d')\"\n",
              "            title=\"Convert this dataframe to an interactive table.\"\n",
              "            style=\"display:none;\">\n",
              "\n",
              "  <svg xmlns=\"http://www.w3.org/2000/svg\" height=\"24px\" viewBox=\"0 -960 960 960\">\n",
              "    <path d=\"M120-120v-720h720v720H120Zm60-500h600v-160H180v160Zm220 220h160v-160H400v160Zm0 220h160v-160H400v160ZM180-400h160v-160H180v160Zm440 0h160v-160H620v160ZM180-180h160v-160H180v160Zm440 0h160v-160H620v160Z\"/>\n",
              "  </svg>\n",
              "    </button>\n",
              "\n",
              "  <style>\n",
              "    .colab-df-container {\n",
              "      display:flex;\n",
              "      gap: 12px;\n",
              "    }\n",
              "\n",
              "    .colab-df-convert {\n",
              "      background-color: #E8F0FE;\n",
              "      border: none;\n",
              "      border-radius: 50%;\n",
              "      cursor: pointer;\n",
              "      display: none;\n",
              "      fill: #1967D2;\n",
              "      height: 32px;\n",
              "      padding: 0 0 0 0;\n",
              "      width: 32px;\n",
              "    }\n",
              "\n",
              "    .colab-df-convert:hover {\n",
              "      background-color: #E2EBFA;\n",
              "      box-shadow: 0px 1px 2px rgba(60, 64, 67, 0.3), 0px 1px 3px 1px rgba(60, 64, 67, 0.15);\n",
              "      fill: #174EA6;\n",
              "    }\n",
              "\n",
              "    .colab-df-buttons div {\n",
              "      margin-bottom: 4px;\n",
              "    }\n",
              "\n",
              "    [theme=dark] .colab-df-convert {\n",
              "      background-color: #3B4455;\n",
              "      fill: #D2E3FC;\n",
              "    }\n",
              "\n",
              "    [theme=dark] .colab-df-convert:hover {\n",
              "      background-color: #434B5C;\n",
              "      box-shadow: 0px 1px 3px 1px rgba(0, 0, 0, 0.15);\n",
              "      filter: drop-shadow(0px 1px 2px rgba(0, 0, 0, 0.3));\n",
              "      fill: #FFFFFF;\n",
              "    }\n",
              "  </style>\n",
              "\n",
              "    <script>\n",
              "      const buttonEl =\n",
              "        document.querySelector('#df-a041ea22-4ea2-45d9-a720-370c23e2a27d button.colab-df-convert');\n",
              "      buttonEl.style.display =\n",
              "        google.colab.kernel.accessAllowed ? 'block' : 'none';\n",
              "\n",
              "      async function convertToInteractive(key) {\n",
              "        const element = document.querySelector('#df-a041ea22-4ea2-45d9-a720-370c23e2a27d');\n",
              "        const dataTable =\n",
              "          await google.colab.kernel.invokeFunction('convertToInteractive',\n",
              "                                                    [key], {});\n",
              "        if (!dataTable) return;\n",
              "\n",
              "        const docLinkHtml = 'Like what you see? Visit the ' +\n",
              "          '<a target=\"_blank\" href=https://colab.research.google.com/notebooks/data_table.ipynb>data table notebook</a>'\n",
              "          + ' to learn more about interactive tables.';\n",
              "        element.innerHTML = '';\n",
              "        dataTable['output_type'] = 'display_data';\n",
              "        await google.colab.output.renderOutput(dataTable, element);\n",
              "        const docLink = document.createElement('div');\n",
              "        docLink.innerHTML = docLinkHtml;\n",
              "        element.appendChild(docLink);\n",
              "      }\n",
              "    </script>\n",
              "  </div>\n",
              "\n",
              "\n",
              "    </div>\n",
              "  </div>\n"
            ],
            "application/vnd.google.colaboratory.intrinsic+json": {
              "type": "dataframe",
              "variable_name": "mentors",
              "summary": "{\n  \"name\": \"mentors\",\n  \"rows\": 10,\n  \"fields\": [\n    {\n      \"column\": \"Id\",\n      \"properties\": {\n        \"dtype\": \"number\",\n        \"std\": 3,\n        \"min\": 1,\n        \"max\": 10,\n        \"num_unique_values\": 10,\n        \"samples\": [\n          9,\n          2,\n          6\n        ],\n        \"semantic_type\": \"\",\n        \"description\": \"\"\n      }\n    },\n    {\n      \"column\": \"Start time\",\n      \"properties\": {\n        \"dtype\": \"date\",\n        \"min\": \"2024-05-27 10:41:14\",\n        \"max\": \"2024-05-28 19:28:33\",\n        \"num_unique_values\": 10,\n        \"samples\": [\n          \"2024-05-28 08:15:08\",\n          \"2024-05-27 11:30:20\",\n          \"2024-05-27 18:11:28\"\n        ],\n        \"semantic_type\": \"\",\n        \"description\": \"\"\n      }\n    },\n    {\n      \"column\": \"Completion time\",\n      \"properties\": {\n        \"dtype\": \"date\",\n        \"min\": \"2024-05-27 10:44:05\",\n        \"max\": \"2024-05-28 19:29:06\",\n        \"num_unique_values\": 10,\n        \"samples\": [\n          \"2024-05-28 08:24:44\",\n          \"2024-05-27 11:39:10\",\n          \"2024-05-27 18:22:26\"\n        ],\n        \"semantic_type\": \"\",\n        \"description\": \"\"\n      }\n    },\n    {\n      \"column\": \"Email\",\n      \"properties\": {\n        \"dtype\": \"string\",\n        \"num_unique_values\": 10,\n        \"samples\": [\n          \"tdeatherage3@gatech.edu\",\n          \"athomas314@gatech.edu\",\n          \"egrossman3@gatech.edu\"\n        ],\n        \"semantic_type\": \"\",\n        \"description\": \"\"\n      }\n    },\n    {\n      \"column\": \"Name\",\n      \"properties\": {\n        \"dtype\": \"string\",\n        \"num_unique_values\": 10,\n        \"samples\": [\n          \"Thomas Deatherage\",\n          \"Adam Thomas\",\n          \"Elan Grossman\"\n        ],\n        \"semantic_type\": \"\",\n        \"description\": \"\"\n      }\n    },\n    {\n      \"column\": \"Full name\",\n      \"properties\": {\n        \"dtype\": \"string\",\n        \"num_unique_values\": 10,\n        \"samples\": [\n          \"Thomas Deatherage\",\n          \"Aadm Thomas\",\n          \"Elan Grossman\"\n        ],\n        \"semantic_type\": \"\",\n        \"description\": \"\"\n      }\n    },\n    {\n      \"column\": \"Georgia Tech email address (.edu)\",\n      \"properties\": {\n        \"dtype\": \"string\",\n        \"num_unique_values\": 10,\n        \"samples\": [\n          \"tdeatherage3@gatech.edu\",\n          \"athomas314@gatech.edu\",\n          \"egrossman3@gatech.edu\"\n        ],\n        \"semantic_type\": \"\",\n        \"description\": \"\"\n      }\n    },\n    {\n      \"column\": \"Please describe your past professional experience.\",\n      \"properties\": {\n        \"dtype\": \"string\",\n        \"num_unique_values\": 10,\n        \"samples\": [\n          \"I have about a decade of software engineering experience.  I've worked at a range of different sized companies, from early stage startups to large publicly traded companies, like Meta. My area of focus has been largely on backend systems, architecture, and scaling.  \",\n          \"previously Attitude Control System engineer \\ncurrently Flight Software Engineer\",\n          \"Although I began my work experience as a full stack application developer, I now work as an AI consultant with a background in innovation engineering. A lot of what I do is help internal and external teams build new technology and figure out how to get ideas into production. Most of the time this is for applications that utilize machine learning, but I also dabble in AR/VR from time to time\"\n        ],\n        \"semantic_type\": \"\",\n        \"description\": \"\"\n      }\n    },\n    {\n      \"column\": \"Please describe your past academic experience.\",\n      \"properties\": {\n        \"dtype\": \"string\",\n        \"num_unique_values\": 10,\n        \"samples\": [\n          \"I graduated with a degree in chemistry and a minor in mathematics.\",\n          \"Bachelor's Degree from Gatech in Aerospace Engineering\",\n          \"BS in Physics from Gatech \\n- Bio-mechanical Research on understanding how insect locomotion of legs affects speed on different surfaces\\nRecently graduated OMSCS \\n- Automated Algorithms Lab - genetic programming techniques to build novel neural networks\\n- AI Based Discovery and Innovation Lab - Reinforcement Learning for Stock trading\"\n        ],\n        \"semantic_type\": \"\",\n        \"description\": \"\"\n      }\n    },\n    {\n      \"column\": \"What are your goals from participating in this program?\",\n      \"properties\": {\n        \"dtype\": \"string\",\n        \"num_unique_values\": 9,\n        \"samples\": [\n          \"Largely, I'm gauging my interest in further graduate (PHD) work.  That is to say, do I have an affinity and aptitude for research?\",\n          \"I am interested in understanding career trajectories, especially across industries or growth within an industry. Similarly, I am happy to share my career experiences and discuss how OMSCS research is shaping my career goals and understanding in the field.\",\n          \"To gain more research experience. \"\n        ],\n        \"semantic_type\": \"\",\n        \"description\": \"\"\n      }\n    },\n    {\n      \"column\": \"Have you ever published an academic paper?\",\n      \"properties\": {\n        \"dtype\": \"category\",\n        \"num_unique_values\": 2,\n        \"samples\": [\n          \"Yes\",\n          \"No\"\n        ],\n        \"semantic_type\": \"\",\n        \"description\": \"\"\n      }\n    },\n    {\n      \"column\": \"What are your plans after graduating from OMSCS?\",\n      \"properties\": {\n        \"dtype\": \"string\",\n        \"num_unique_values\": 10,\n        \"samples\": [\n          \"Either additional school (PHD) or continue in industry.  \",\n          \"Transfer to a more robotics oriented role.\"\n        ],\n        \"semantic_type\": \"\",\n        \"description\": \"\"\n      }\n    },\n    {\n      \"column\": \"Please upload your resume as a PDF.\",\n      \"properties\": {\n        \"dtype\": \"string\",\n        \"num_unique_values\": 10,\n        \"samples\": [\n          \"https://gtvault-my.sharepoint.com/personal/aparikh49_gatech_edu/Documents/Apps/Microsoft%20Forms/HAAG%20Buddy%20Program%20-%20Mentor%20Application/Question/resume-aug-2023_Thomas%20Deatherage.pdf\",\n          \"https://gtvault-my.sharepoint.com/personal/aparikh49_gatech_edu/Documents/Apps/Microsoft%20Forms/HAAG%20Buddy%20Program%20-%20Mentor%20Application/Question/Adam%20Thomas%20Resume%20OnePage_Adam%20Thomas.pdf\"\n        ],\n        \"semantic_type\": \"\",\n        \"description\": \"\"\n      }\n    }\n  ]\n}"
            }
          },
          "metadata": {},
          "execution_count": 15
        }
      ]
    },
    {
      "cell_type": "code",
      "source": [
        "mentees_responses = mentees[['Name',\n",
        "                             'Please describe your past professional experience.',\n",
        "                             'Please describe your past academic experience.',\n",
        "                             'What are your goals from participating in this program?',\n",
        "                             'Why are you interested in research?',\n",
        "                             'What are your career goals?',\n",
        "                             'What are your plans after graduating from OMSCS?']]\n",
        "mentees_responses.head()[0:1]"
      ],
      "metadata": {
        "colab": {
          "base_uri": "https://localhost:8080/",
          "height": 326
        },
        "id": "B6kqk9RKGkuJ",
        "outputId": "0b3ff045-e97e-414c-821d-4891b75fea71"
      },
      "execution_count": 14,
      "outputs": [
        {
          "output_type": "execute_result",
          "data": {
            "text/plain": [
              "            Name Please describe your past professional experience.  \\\n",
              "0  Ahmed Mohamed  My past professional experience has been prima...   \n",
              "\n",
              "      Please describe your past academic experience.  \\\n",
              "0  My past academic experience before starting OM...   \n",
              "\n",
              "  What are your goals from participating in this program?  \\\n",
              "0  My goals from participating in this program is...        \n",
              "\n",
              "                 Why are you interested in research?  \\\n",
              "0  I am definitely very new to the world of resea...   \n",
              "\n",
              "                         What are your career goals?  \\\n",
              "0  My career goals have been shifting over the pa...   \n",
              "\n",
              "    What are your plans after graduating from OMSCS?  \n",
              "0  After graduating from OMSCS I would like to ex...  "
            ],
            "text/html": [
              "\n",
              "  <div id=\"df-c041a7fb-d8db-4950-8641-6e507b784050\" class=\"colab-df-container\">\n",
              "    <div>\n",
              "<style scoped>\n",
              "    .dataframe tbody tr th:only-of-type {\n",
              "        vertical-align: middle;\n",
              "    }\n",
              "\n",
              "    .dataframe tbody tr th {\n",
              "        vertical-align: top;\n",
              "    }\n",
              "\n",
              "    .dataframe thead th {\n",
              "        text-align: right;\n",
              "    }\n",
              "</style>\n",
              "<table border=\"1\" class=\"dataframe\">\n",
              "  <thead>\n",
              "    <tr style=\"text-align: right;\">\n",
              "      <th></th>\n",
              "      <th>Name</th>\n",
              "      <th>Please describe your past professional experience.</th>\n",
              "      <th>Please describe your past academic experience.</th>\n",
              "      <th>What are your goals from participating in this program?</th>\n",
              "      <th>Why are you interested in research?</th>\n",
              "      <th>What are your career goals?</th>\n",
              "      <th>What are your plans after graduating from OMSCS?</th>\n",
              "    </tr>\n",
              "  </thead>\n",
              "  <tbody>\n",
              "    <tr>\n",
              "      <th>0</th>\n",
              "      <td>Ahmed Mohamed</td>\n",
              "      <td>My past professional experience has been prima...</td>\n",
              "      <td>My past academic experience before starting OM...</td>\n",
              "      <td>My goals from participating in this program is...</td>\n",
              "      <td>I am definitely very new to the world of resea...</td>\n",
              "      <td>My career goals have been shifting over the pa...</td>\n",
              "      <td>After graduating from OMSCS I would like to ex...</td>\n",
              "    </tr>\n",
              "  </tbody>\n",
              "</table>\n",
              "</div>\n",
              "    <div class=\"colab-df-buttons\">\n",
              "\n",
              "  <div class=\"colab-df-container\">\n",
              "    <button class=\"colab-df-convert\" onclick=\"convertToInteractive('df-c041a7fb-d8db-4950-8641-6e507b784050')\"\n",
              "            title=\"Convert this dataframe to an interactive table.\"\n",
              "            style=\"display:none;\">\n",
              "\n",
              "  <svg xmlns=\"http://www.w3.org/2000/svg\" height=\"24px\" viewBox=\"0 -960 960 960\">\n",
              "    <path d=\"M120-120v-720h720v720H120Zm60-500h600v-160H180v160Zm220 220h160v-160H400v160Zm0 220h160v-160H400v160ZM180-400h160v-160H180v160Zm440 0h160v-160H620v160ZM180-180h160v-160H180v160Zm440 0h160v-160H620v160Z\"/>\n",
              "  </svg>\n",
              "    </button>\n",
              "\n",
              "  <style>\n",
              "    .colab-df-container {\n",
              "      display:flex;\n",
              "      gap: 12px;\n",
              "    }\n",
              "\n",
              "    .colab-df-convert {\n",
              "      background-color: #E8F0FE;\n",
              "      border: none;\n",
              "      border-radius: 50%;\n",
              "      cursor: pointer;\n",
              "      display: none;\n",
              "      fill: #1967D2;\n",
              "      height: 32px;\n",
              "      padding: 0 0 0 0;\n",
              "      width: 32px;\n",
              "    }\n",
              "\n",
              "    .colab-df-convert:hover {\n",
              "      background-color: #E2EBFA;\n",
              "      box-shadow: 0px 1px 2px rgba(60, 64, 67, 0.3), 0px 1px 3px 1px rgba(60, 64, 67, 0.15);\n",
              "      fill: #174EA6;\n",
              "    }\n",
              "\n",
              "    .colab-df-buttons div {\n",
              "      margin-bottom: 4px;\n",
              "    }\n",
              "\n",
              "    [theme=dark] .colab-df-convert {\n",
              "      background-color: #3B4455;\n",
              "      fill: #D2E3FC;\n",
              "    }\n",
              "\n",
              "    [theme=dark] .colab-df-convert:hover {\n",
              "      background-color: #434B5C;\n",
              "      box-shadow: 0px 1px 3px 1px rgba(0, 0, 0, 0.15);\n",
              "      filter: drop-shadow(0px 1px 2px rgba(0, 0, 0, 0.3));\n",
              "      fill: #FFFFFF;\n",
              "    }\n",
              "  </style>\n",
              "\n",
              "    <script>\n",
              "      const buttonEl =\n",
              "        document.querySelector('#df-c041a7fb-d8db-4950-8641-6e507b784050 button.colab-df-convert');\n",
              "      buttonEl.style.display =\n",
              "        google.colab.kernel.accessAllowed ? 'block' : 'none';\n",
              "\n",
              "      async function convertToInteractive(key) {\n",
              "        const element = document.querySelector('#df-c041a7fb-d8db-4950-8641-6e507b784050');\n",
              "        const dataTable =\n",
              "          await google.colab.kernel.invokeFunction('convertToInteractive',\n",
              "                                                    [key], {});\n",
              "        if (!dataTable) return;\n",
              "\n",
              "        const docLinkHtml = 'Like what you see? Visit the ' +\n",
              "          '<a target=\"_blank\" href=https://colab.research.google.com/notebooks/data_table.ipynb>data table notebook</a>'\n",
              "          + ' to learn more about interactive tables.';\n",
              "        element.innerHTML = '';\n",
              "        dataTable['output_type'] = 'display_data';\n",
              "        await google.colab.output.renderOutput(dataTable, element);\n",
              "        const docLink = document.createElement('div');\n",
              "        docLink.innerHTML = docLinkHtml;\n",
              "        element.appendChild(docLink);\n",
              "      }\n",
              "    </script>\n",
              "  </div>\n",
              "\n",
              "\n",
              "    </div>\n",
              "  </div>\n"
            ],
            "application/vnd.google.colaboratory.intrinsic+json": {
              "type": "dataframe",
              "variable_name": "mentees_responses",
              "summary": "{\n  \"name\": \"mentees_responses\",\n  \"rows\": 10,\n  \"fields\": [\n    {\n      \"column\": \"Name\",\n      \"properties\": {\n        \"dtype\": \"string\",\n        \"num_unique_values\": 10,\n        \"samples\": [\n          \"Bharat Raghunathan\",\n          \"Guru Raj Vaishnav Akuthota\",\n          \"Ren Yi Tan\"\n        ],\n        \"semantic_type\": \"\",\n        \"description\": \"\"\n      }\n    },\n    {\n      \"column\": \"Please describe your past professional experience.\",\n      \"properties\": {\n        \"dtype\": \"string\",\n        \"num_unique_values\": 10,\n        \"samples\": [\n          \"I have worked as a Software Engineer at ServiceNow for 3 years and a Machine Learning Engineer at a startup called Mad Street Den.\",\n          \"I'm currently working as a software engineer at Microsoft. I've recently worked with LLMs based RAG application for sales data and a training + inference pipeline for predictive analytics tool. \\n\\nBefore Microsoft, I've worked at VMware having worked extensively on Multi Cloud data analytics - used for cloud cost and usage analytics. Here I've also worked on pocs for ml such as determining optimal cost, workload prediction and a bit of anomaly detection. \",\n          \"- 3+ years software engineering experience in a big tech\\n- Professional experience in full-stack engineering (React/Typescript, GraphQL, .NET/C#, WinRT/C++, Node.JS), CI/CD DevOps. \\n- Proficiency in data querying, transformation and pre-processing (e.g preparing datasets, feature selection & engineering, sampling) \\n- Proficiency in machine learning & deep learning libraries  (PyTorch, Scikit-Learn) \\n- Experience with computer vision libraries (OpenCV, TorchVision, Scikit-Image) \\n- Experience with natural language processing (e.g. SpaCy, NLTK)\\n\"\n        ],\n        \"semantic_type\": \"\",\n        \"description\": \"\"\n      }\n    },\n    {\n      \"column\": \"Please describe your past academic experience.\",\n      \"properties\": {\n        \"dtype\": \"string\",\n        \"num_unique_values\": 10,\n        \"samples\": [\n          \"I have done a Bachelors' in Electronics and Communication Engineering along with a grasp of Computer Science concepts for my undergraduate degree, and I have taken multiple courses in Machine Learning and Software Development.\",\n          \"I've graduated as BE Hons in Electronics and communication with a minor in data science from BITS Pilani, Hyderabad campus in India. My formal education background involve courses of ML, AI, Optimization, multivariate calculus, Foundational data science, Deep learning, Statistical methods and probability, statics theory. \\n\\nBesides this I took up online courses in ML and RL from time to time, having complete 2 nanodegrees from Udacity in Machine learning engineering and deep reinforcement learning. \\n\\nFurthermore, I am a software engineer by profession with data engineering heavy role and I'm comfortable is writing and deploying code in cloud, writing automation scripts and working on big data tools like spark. \",\n          \"- Current OMSCS student\\n- Bachelor's degree in Engineering & Computer Science from the National University of Singapore. \"\n        ],\n        \"semantic_type\": \"\",\n        \"description\": \"\"\n      }\n    },\n    {\n      \"column\": \"What are your goals from participating in this program?\",\n      \"properties\": {\n        \"dtype\": \"string\",\n        \"num_unique_values\": 10,\n        \"samples\": [\n          \"My goals in participating in this program are to get involved in research, acquire skills in building software apps, data analysis and modelling, learning how to collaborate with others while working on a large project including both technical and non-technical skills such as breaking down a project into subproblems/subsystems and communicating and presenting results to multiple types of stakeholders.\",\n          \"To publish papers in famous journals, to contribute to interdisciplinary research and to learn and explore machine learning in depth. \",\n          \"- Want to collaborate on interesting projects across different discplines (Previously i had applied for the NLP Letters and Cichlid project for Summer 2024)\\n- Want to get involved in research to strengthen my application for a PhD in the future\"\n        ],\n        \"semantic_type\": \"\",\n        \"description\": \"\"\n      }\n    },\n    {\n      \"column\": \"Why are you interested in research?\",\n      \"properties\": {\n        \"dtype\": \"string\",\n        \"num_unique_values\": 10,\n        \"samples\": [\n          \"I'm interested in the meta skills that doing research presents us with such as aggregating/gathering streams of information, critical thinking/analysis and review, how to read and implement a research paper or set up experiments, explaining/presenting the results from my own research to technical and non-technical stakeholders etc.\",\n          \"During my masters application I realised that lack of research experience impactedy applicatios. Besides I always wanted to try out formal research before pursuing it full time during my undergraduate study. It's the curiosity to find out answers to the problems everyone is trying to solve and in the process learn something, publish a few papers and become an expert in the domain. I recently worked on implementing a reproducing research paper project in python for medical dataset as part of Big data for health analytics course and found it exciting. It also built my confidence in the quality of research collaboration that is expected at Georiga tech. \",\n          \"- Was really inspired by Matt Might's \\\"The illustrated guide to a Ph.D\\\" article when I was in college and the thought never left me\\n- I felt that my learning is really enhanced when I did similar \\\"research\\\"-style projects in some of my coursework.\\n- I enjoying applying my knowledge in computer science to solve interesting problems across other disciplines. \"\n        ],\n        \"semantic_type\": \"\",\n        \"description\": \"\"\n      }\n    },\n    {\n      \"column\": \"What are your career goals?\",\n      \"properties\": {\n        \"dtype\": \"string\",\n        \"num_unique_values\": 10,\n        \"samples\": [\n          \"I would like to pursue a role in the intersection of Machine Learning and Software Development; something like ML System Design or on how using Generative AI tools can make development iterations rapid in building software apps or offering software/tech services.\",\n          \"At the moment to progress and transition from a software engineer role to a ML engineer/AI engineer role. However I am open to a PhD and hence want to work with this group to get a feel of focused research and publish papers in the process\",\n          \"- I want to work on a doctorate in computer science (still exploring research interest and hope programs like this can help me find what I want)\\n- Have a career where I can make an original contribution to expand (no matter how small)  our collective knowledge on the subject \"\n        ],\n        \"semantic_type\": \"\",\n        \"description\": \"\"\n      }\n    },\n    {\n      \"column\": \"What are your plans after graduating from OMSCS?\",\n      \"properties\": {\n        \"dtype\": \"string\",\n        \"num_unique_values\": 10,\n        \"samples\": [\n          \"My plans are to look for the next relevant role present in the industry or forms of industry research, which could take the form of a Software Development Engineer (SDE), SDE in Machine Learning, an AI Engineer or Machine Learning Engineer, any of these which may involve working with Machine Learning models or Generative AI tools but using Software Engineering principles.\",\n          \"Currently I wish to continue in my role as a software engineer at Microsoft, however I want to explore research and if it's is my calling, I would look out to pursue a PhD at GATech. \",\n          \"- I intend to continue getting involved in available OMSCS research programs as a non-graduating student\\n- Eventually, I hope to have a strong application to apply for doctorate programs \"\n        ],\n        \"semantic_type\": \"\",\n        \"description\": \"\"\n      }\n    }\n  ]\n}"
            }
          },
          "metadata": {},
          "execution_count": 14
        }
      ]
    },
    {
      "cell_type": "code",
      "source": [
        "mentors_responses = mentors[['Name',\n",
        "                             'Please describe your past professional experience.',\n",
        "                             'Please describe your past academic experience.',\n",
        "                             'What are your goals from participating in this program?',\n",
        "                             'What are your plans after graduating from OMSCS?']]\n",
        "mentors_responses.head()[0:1]"
      ],
      "metadata": {
        "colab": {
          "base_uri": "https://localhost:8080/",
          "height": 185
        },
        "id": "lOpKePHFGk3x",
        "outputId": "9b589406-6d8e-4451-83ad-9349f34aef00"
      },
      "execution_count": 17,
      "outputs": [
        {
          "output_type": "execute_result",
          "data": {
            "text/plain": [
              "           Name Please describe your past professional experience.  \\\n",
              "0  Jacob Shimer  4 years as a backend programmer for a R&D comp...   \n",
              "\n",
              "      Please describe your past academic experience.  \\\n",
              "0  Achieved my Bachelors of Science in Computer S...   \n",
              "\n",
              "  What are your goals from participating in this program?  \\\n",
              "0                                                NaN        \n",
              "\n",
              "    What are your plans after graduating from OMSCS?  \n",
              "0  No plans currently, continuing working as a so...  "
            ],
            "text/html": [
              "\n",
              "  <div id=\"df-df204fdd-4872-4635-974e-4ac1f7a411c1\" class=\"colab-df-container\">\n",
              "    <div>\n",
              "<style scoped>\n",
              "    .dataframe tbody tr th:only-of-type {\n",
              "        vertical-align: middle;\n",
              "    }\n",
              "\n",
              "    .dataframe tbody tr th {\n",
              "        vertical-align: top;\n",
              "    }\n",
              "\n",
              "    .dataframe thead th {\n",
              "        text-align: right;\n",
              "    }\n",
              "</style>\n",
              "<table border=\"1\" class=\"dataframe\">\n",
              "  <thead>\n",
              "    <tr style=\"text-align: right;\">\n",
              "      <th></th>\n",
              "      <th>Name</th>\n",
              "      <th>Please describe your past professional experience.</th>\n",
              "      <th>Please describe your past academic experience.</th>\n",
              "      <th>What are your goals from participating in this program?</th>\n",
              "      <th>What are your plans after graduating from OMSCS?</th>\n",
              "    </tr>\n",
              "  </thead>\n",
              "  <tbody>\n",
              "    <tr>\n",
              "      <th>0</th>\n",
              "      <td>Jacob Shimer</td>\n",
              "      <td>4 years as a backend programmer for a R&amp;D comp...</td>\n",
              "      <td>Achieved my Bachelors of Science in Computer S...</td>\n",
              "      <td>NaN</td>\n",
              "      <td>No plans currently, continuing working as a so...</td>\n",
              "    </tr>\n",
              "  </tbody>\n",
              "</table>\n",
              "</div>\n",
              "    <div class=\"colab-df-buttons\">\n",
              "\n",
              "  <div class=\"colab-df-container\">\n",
              "    <button class=\"colab-df-convert\" onclick=\"convertToInteractive('df-df204fdd-4872-4635-974e-4ac1f7a411c1')\"\n",
              "            title=\"Convert this dataframe to an interactive table.\"\n",
              "            style=\"display:none;\">\n",
              "\n",
              "  <svg xmlns=\"http://www.w3.org/2000/svg\" height=\"24px\" viewBox=\"0 -960 960 960\">\n",
              "    <path d=\"M120-120v-720h720v720H120Zm60-500h600v-160H180v160Zm220 220h160v-160H400v160Zm0 220h160v-160H400v160ZM180-400h160v-160H180v160Zm440 0h160v-160H620v160ZM180-180h160v-160H180v160Zm440 0h160v-160H620v160Z\"/>\n",
              "  </svg>\n",
              "    </button>\n",
              "\n",
              "  <style>\n",
              "    .colab-df-container {\n",
              "      display:flex;\n",
              "      gap: 12px;\n",
              "    }\n",
              "\n",
              "    .colab-df-convert {\n",
              "      background-color: #E8F0FE;\n",
              "      border: none;\n",
              "      border-radius: 50%;\n",
              "      cursor: pointer;\n",
              "      display: none;\n",
              "      fill: #1967D2;\n",
              "      height: 32px;\n",
              "      padding: 0 0 0 0;\n",
              "      width: 32px;\n",
              "    }\n",
              "\n",
              "    .colab-df-convert:hover {\n",
              "      background-color: #E2EBFA;\n",
              "      box-shadow: 0px 1px 2px rgba(60, 64, 67, 0.3), 0px 1px 3px 1px rgba(60, 64, 67, 0.15);\n",
              "      fill: #174EA6;\n",
              "    }\n",
              "\n",
              "    .colab-df-buttons div {\n",
              "      margin-bottom: 4px;\n",
              "    }\n",
              "\n",
              "    [theme=dark] .colab-df-convert {\n",
              "      background-color: #3B4455;\n",
              "      fill: #D2E3FC;\n",
              "    }\n",
              "\n",
              "    [theme=dark] .colab-df-convert:hover {\n",
              "      background-color: #434B5C;\n",
              "      box-shadow: 0px 1px 3px 1px rgba(0, 0, 0, 0.15);\n",
              "      filter: drop-shadow(0px 1px 2px rgba(0, 0, 0, 0.3));\n",
              "      fill: #FFFFFF;\n",
              "    }\n",
              "  </style>\n",
              "\n",
              "    <script>\n",
              "      const buttonEl =\n",
              "        document.querySelector('#df-df204fdd-4872-4635-974e-4ac1f7a411c1 button.colab-df-convert');\n",
              "      buttonEl.style.display =\n",
              "        google.colab.kernel.accessAllowed ? 'block' : 'none';\n",
              "\n",
              "      async function convertToInteractive(key) {\n",
              "        const element = document.querySelector('#df-df204fdd-4872-4635-974e-4ac1f7a411c1');\n",
              "        const dataTable =\n",
              "          await google.colab.kernel.invokeFunction('convertToInteractive',\n",
              "                                                    [key], {});\n",
              "        if (!dataTable) return;\n",
              "\n",
              "        const docLinkHtml = 'Like what you see? Visit the ' +\n",
              "          '<a target=\"_blank\" href=https://colab.research.google.com/notebooks/data_table.ipynb>data table notebook</a>'\n",
              "          + ' to learn more about interactive tables.';\n",
              "        element.innerHTML = '';\n",
              "        dataTable['output_type'] = 'display_data';\n",
              "        await google.colab.output.renderOutput(dataTable, element);\n",
              "        const docLink = document.createElement('div');\n",
              "        docLink.innerHTML = docLinkHtml;\n",
              "        element.appendChild(docLink);\n",
              "      }\n",
              "    </script>\n",
              "  </div>\n",
              "\n",
              "\n",
              "    </div>\n",
              "  </div>\n"
            ],
            "application/vnd.google.colaboratory.intrinsic+json": {
              "type": "dataframe",
              "variable_name": "mentors_responses",
              "summary": "{\n  \"name\": \"mentors_responses\",\n  \"rows\": 10,\n  \"fields\": [\n    {\n      \"column\": \"Name\",\n      \"properties\": {\n        \"dtype\": \"string\",\n        \"num_unique_values\": 10,\n        \"samples\": [\n          \"Thomas Deatherage\",\n          \"Adam Thomas\",\n          \"Elan Grossman\"\n        ],\n        \"semantic_type\": \"\",\n        \"description\": \"\"\n      }\n    },\n    {\n      \"column\": \"Please describe your past professional experience.\",\n      \"properties\": {\n        \"dtype\": \"string\",\n        \"num_unique_values\": 10,\n        \"samples\": [\n          \"I have about a decade of software engineering experience.  I've worked at a range of different sized companies, from early stage startups to large publicly traded companies, like Meta. My area of focus has been largely on backend systems, architecture, and scaling.  \",\n          \"previously Attitude Control System engineer \\ncurrently Flight Software Engineer\",\n          \"Although I began my work experience as a full stack application developer, I now work as an AI consultant with a background in innovation engineering. A lot of what I do is help internal and external teams build new technology and figure out how to get ideas into production. Most of the time this is for applications that utilize machine learning, but I also dabble in AR/VR from time to time\"\n        ],\n        \"semantic_type\": \"\",\n        \"description\": \"\"\n      }\n    },\n    {\n      \"column\": \"Please describe your past academic experience.\",\n      \"properties\": {\n        \"dtype\": \"string\",\n        \"num_unique_values\": 10,\n        \"samples\": [\n          \"I graduated with a degree in chemistry and a minor in mathematics.\",\n          \"Bachelor's Degree from Gatech in Aerospace Engineering\",\n          \"BS in Physics from Gatech \\n- Bio-mechanical Research on understanding how insect locomotion of legs affects speed on different surfaces\\nRecently graduated OMSCS \\n- Automated Algorithms Lab - genetic programming techniques to build novel neural networks\\n- AI Based Discovery and Innovation Lab - Reinforcement Learning for Stock trading\"\n        ],\n        \"semantic_type\": \"\",\n        \"description\": \"\"\n      }\n    },\n    {\n      \"column\": \"What are your goals from participating in this program?\",\n      \"properties\": {\n        \"dtype\": \"string\",\n        \"num_unique_values\": 9,\n        \"samples\": [\n          \"Largely, I'm gauging my interest in further graduate (PHD) work.  That is to say, do I have an affinity and aptitude for research?\",\n          \"I am interested in understanding career trajectories, especially across industries or growth within an industry. Similarly, I am happy to share my career experiences and discuss how OMSCS research is shaping my career goals and understanding in the field.\",\n          \"To gain more research experience. \"\n        ],\n        \"semantic_type\": \"\",\n        \"description\": \"\"\n      }\n    },\n    {\n      \"column\": \"What are your plans after graduating from OMSCS?\",\n      \"properties\": {\n        \"dtype\": \"string\",\n        \"num_unique_values\": 10,\n        \"samples\": [\n          \"Either additional school (PHD) or continue in industry.  \",\n          \"Transfer to a more robotics oriented role.\",\n          \"Keep working. Apply for a PHD. Research\"\n        ],\n        \"semantic_type\": \"\",\n        \"description\": \"\"\n      }\n    }\n  ]\n}"
            }
          },
          "metadata": {},
          "execution_count": 17
        }
      ]
    },
    {
      "cell_type": "code",
      "source": [
        "def unify_text(df):\n",
        "  \"\"\"\n",
        "  Unifies text across all columns left to right except the column called Name and creates a new column \"Unified Text\".\n",
        "  \"\"\"\n",
        "\n",
        "  # Get all column names except \"Name\".\n",
        "  cols = [col for col in df.columns if col != \"Name\"]\n",
        "\n",
        "  # Concatenate the values from all columns except \"Name\" with a space.\n",
        "  df[\"Unified Text\"] = df[cols].apply(lambda row: \" \".join(row.astype(str).values), axis=1)\n",
        "\n",
        "  return df\n",
        "\n",
        "mentors_responses = unify_text(mentors_responses)\n",
        "mentees_responses = unify_text(mentees_responses)\n",
        "\n",
        "mentors_responses['Unified Text'] = mentors_responses['Unified Text'].apply(lambda x : preprocess_text(x))\n",
        "mentees_responses['Unified Text'] = mentees_responses['Unified Text'].apply(lambda x : preprocess_text(x))"
      ],
      "metadata": {
        "colab": {
          "base_uri": "https://localhost:8080/"
        },
        "id": "bv5v6HmyI-GC",
        "outputId": "4486ef4b-eff5-4952-d3dd-2ae57eaa43af"
      },
      "execution_count": 21,
      "outputs": [
        {
          "output_type": "stream",
          "name": "stderr",
          "text": [
            "<ipython-input-21-7349839af153>:10: SettingWithCopyWarning: \n",
            "A value is trying to be set on a copy of a slice from a DataFrame.\n",
            "Try using .loc[row_indexer,col_indexer] = value instead\n",
            "\n",
            "See the caveats in the documentation: https://pandas.pydata.org/pandas-docs/stable/user_guide/indexing.html#returning-a-view-versus-a-copy\n",
            "  df[\"Unified Text\"] = df[cols].apply(lambda row: \" \".join(row.astype(str).values), axis=1)\n",
            "<ipython-input-21-7349839af153>:17: SettingWithCopyWarning: \n",
            "A value is trying to be set on a copy of a slice from a DataFrame.\n",
            "Try using .loc[row_indexer,col_indexer] = value instead\n",
            "\n",
            "See the caveats in the documentation: https://pandas.pydata.org/pandas-docs/stable/user_guide/indexing.html#returning-a-view-versus-a-copy\n",
            "  mentors_responses['Unified Text'] = mentors_responses['Unified Text'].apply(lambda x : preprocess_text(x))\n"
          ]
        }
      ]
    },
    {
      "cell_type": "code",
      "source": [
        "import pandas as pd\n",
        "from sklearn.metrics.pairwise import cosine_similarity\n",
        "\n",
        "def compute_cosine_similarity(df_mentors, df_mentees, similarity_method):\n",
        "  \"\"\"\n",
        "  Computes cosine similarity between \"Unified Text\" columns of every mentor and mentee.\n",
        "  \"\"\"\n",
        "\n",
        "  # Create a list to store the results.\n",
        "  results = []\n",
        "\n",
        "  # Loop through each mentor.\n",
        "  for i, mentor_row in df_mentors.iterrows():\n",
        "    # Get the mentor's \"Unified Text\".\n",
        "    mentor_text = mentor_row[\"Unified Text\"]\n",
        "\n",
        "    # Loop through each mentee.\n",
        "    for j, mentee_row in df_mentees.iterrows():\n",
        "      # Get the mentee's \"Unified Text\".\n",
        "      mentee_text = mentee_row[\"Unified Text\"]\n",
        "\n",
        "      # Calculate the cosine similarity between the mentor and mentee texts.\n",
        "      similarity = similarity_method(mentor_text, mentee_text)\n",
        "\n",
        "      # Store the result in the list.\n",
        "      results.append({\n",
        "        \"Mentor\": mentor_row[\"Name\"],\n",
        "        \"Mentee\": mentee_row[\"Name\"],\n",
        "        \"Cosine Similarity\": similarity\n",
        "      })\n",
        "\n",
        "  # Convert the results to a DataFrame.\n",
        "  df_results = pd.DataFrame(results)\n",
        "\n",
        "  return df_results\n",
        "\n",
        "df_results = compute_cosine_similarity(mentors_responses, mentees_responses, calculate_similarity)\n",
        "print(df_results)"
      ],
      "metadata": {
        "colab": {
          "base_uri": "https://localhost:8080/"
        },
        "id": "yWSou6zjJziv",
        "outputId": "6445e698-533f-4641-a12c-e5b8d06d58dd"
      },
      "execution_count": 23,
      "outputs": [
        {
          "output_type": "stream",
          "name": "stdout",
          "text": [
            "          Mentor                      Mentee  Cosine Similarity\n",
            "0   Jacob Shimer               Ahmed Mohamed           0.153252\n",
            "1   Jacob Shimer  Guru Raj Vaishnav Akuthota           0.140040\n",
            "2   Jacob Shimer             Andrei Valasiuk           0.068111\n",
            "3   Jacob Shimer              Han Qiao Zhang           0.031175\n",
            "4   Jacob Shimer               Chenghao Wang           0.090290\n",
            "..           ...                         ...                ...\n",
            "95   Thomas Orth                  Ren Yi Tan           0.085307\n",
            "96   Thomas Orth              Kelsi Blauvelt           0.120600\n",
            "97   Thomas Orth                  Yallen Bai           0.054397\n",
            "98   Thomas Orth          Bharat Raghunathan           0.064327\n",
            "99   Thomas Orth               Hannah Ismail           0.052795\n",
            "\n",
            "[100 rows x 3 columns]\n"
          ]
        }
      ]
    },
    {
      "cell_type": "code",
      "source": [
        "def assign_mentees_by_similarity(df_results):\n",
        "  \"\"\"\n",
        "  Assigns mentees to mentors based on cosine similarity, avoiding duplicates.\n",
        "  \"\"\"\n",
        "\n",
        "  # Create a dictionary to store the assigned mentees.\n",
        "  assigned_mentees = {}\n",
        "\n",
        "  # Loop through each mentor.\n",
        "  for mentor, group_df in df_results.groupby(\"Mentor\"):\n",
        "    # Sort the mentees by cosine similarity in descending order.\n",
        "    sorted_mentees = group_df.sort_values(by=\"Cosine Similarity\", ascending=False)\n",
        "\n",
        "    # Assign the first available mentee.\n",
        "    for mentee in sorted_mentees[\"Mentee\"]:\n",
        "      if mentee not in assigned_mentees.values():\n",
        "        assigned_mentees[mentor] = mentee\n",
        "        break\n",
        "\n",
        "  return assigned_mentees\n",
        "\n",
        "assigned_mentees = assign_mentees_by_similarity(df_results)\n",
        "print(assigned_mentees)"
      ],
      "metadata": {
        "colab": {
          "base_uri": "https://localhost:8080/"
        },
        "id": "A5wfgcgiNaNR",
        "outputId": "41cbcc36-1fba-4a63-858d-8b6d1532ae61"
      },
      "execution_count": 25,
      "outputs": [
        {
          "output_type": "stream",
          "name": "stdout",
          "text": [
            "{'Adam Thomas': 'Bharat Raghunathan', 'Aiden Campbell': 'Chenghao Wang', 'Anita Cheung': 'Ahmed Mohamed', 'Elan Grossman': 'Kelsi Blauvelt', 'Jacob Shimer': 'Hannah Ismail', 'Junsoo Park': 'Yallen Bai', 'Kailey Cozart': 'Ren Yi Tan', 'Nikhil Kapila': 'Guru Raj Vaishnav Akuthota', 'Thomas Deatherage': 'Andrei Valasiuk', 'Thomas Orth': 'Han Qiao Zhang'}\n"
          ]
        }
      ]
    },
    {
      "cell_type": "markdown",
      "source": [
        "# Aside: Convert PDF to Text to Extract Resume Text"
      ],
      "metadata": {
        "id": "r9V7pH4mpbhv"
      }
    },
    {
      "cell_type": "markdown",
      "source": [
        "The below code block will be a useful starting point to convert resume PDFs to text."
      ],
      "metadata": {
        "id": "QGinngGFphTN"
      }
    },
    {
      "cell_type": "code",
      "source": [
        "!pip install PyMuPDF"
      ],
      "metadata": {
        "colab": {
          "base_uri": "https://localhost:8080/"
        },
        "id": "wyLFzX_oqHC_",
        "outputId": "5630a646-1a3d-4a79-9b29-90b50150464d"
      },
      "execution_count": 6,
      "outputs": [
        {
          "output_type": "stream",
          "name": "stdout",
          "text": [
            "Collecting PyMuPDF\n",
            "  Downloading PyMuPDF-1.24.4-cp310-none-manylinux2014_x86_64.whl (3.5 MB)\n",
            "\u001b[2K     \u001b[90m━━━━━━━━━━━━━━━━━━━━━━━━━━━━━━━━━━━━━━━━\u001b[0m \u001b[32m3.5/3.5 MB\u001b[0m \u001b[31m15.2 MB/s\u001b[0m eta \u001b[36m0:00:00\u001b[0m\n",
            "\u001b[?25hCollecting PyMuPDFb==1.24.3 (from PyMuPDF)\n",
            "  Downloading PyMuPDFb-1.24.3-py3-none-manylinux2014_x86_64.manylinux_2_17_x86_64.whl (15.8 MB)\n",
            "\u001b[2K     \u001b[90m━━━━━━━━━━━━━━━━━━━━━━━━━━━━━━━━━━━━━━━━\u001b[0m \u001b[32m15.8/15.8 MB\u001b[0m \u001b[31m68.2 MB/s\u001b[0m eta \u001b[36m0:00:00\u001b[0m\n",
            "\u001b[?25hInstalling collected packages: PyMuPDFb, PyMuPDF\n",
            "Successfully installed PyMuPDF-1.24.4 PyMuPDFb-1.24.3\n"
          ]
        }
      ]
    },
    {
      "cell_type": "code",
      "source": [
        "import fitz  # PyMuPDF\n",
        "\n",
        "# Function to convert PDF to text\n",
        "def pdf_to_text(pdf_path):\n",
        "    # Open the PDF file\n",
        "    pdf_document = fitz.open(pdf_path)\n",
        "    text = \"\"\n",
        "\n",
        "    # Iterate over each page and extract text\n",
        "    for page_num in range(len(pdf_document)):\n",
        "        page = pdf_document.load_page(page_num)\n",
        "        text += page.get_text()\n",
        "\n",
        "    return text\n",
        "\n",
        "# Example usage with my resume\n",
        "pdf_path = '/content/Parikh_Ayush_2024_Resume.pdf'  # Path to your PDF file\n",
        "text = pdf_to_text(pdf_path)\n",
        "print(text)"
      ],
      "metadata": {
        "colab": {
          "base_uri": "https://localhost:8080/"
        },
        "id": "PyzTuiQVphwj",
        "outputId": "123ea949-fbbd-416e-8eb1-16342d0badfa"
      },
      "execution_count": 8,
      "outputs": [
        {
          "output_type": "stream",
          "name": "stdout",
          "text": [
            " \n",
            "AYUSH PARIKH \n",
            "ayushnparikh@gmail.com | (732) 762-8460 | Seattle, WA \n",
            "linkedin.com/in/a-parikh | github.com/ayushparikh-microsoft | github.com/ayusoccer \n",
            " \n",
            "EDUCATION \n",
            "Georgia Institute of Technology, School of Computing | Atlanta, GA   \n",
            " \n",
            "                                                             May 2025 \n",
            "Masters of Science in Computer Science                                                                                                            Current Cumulative GPA: 4.0/4.0 \n",
            "Specialization: Machine Learning \n",
            "Coursework: Machine Learning for Trading, Deep Learning, Network Science, Machine Learning, Big Data for Health, Quantum \n",
            "Computing – substantial programming experience in Python through all of these classes; final projects such as RL trading bot \n",
            " \n",
            "University of Pennsylvania, School of Engineering and Applied Science | Philadelphia, PA \n",
            " \n",
            " \n",
            "             May 2021 \n",
            "Bachelor of Science in Engineering \n",
            "Major: Computer Science | Minors: Engineering Entrepreneurship, Data Science, and Mathematics                Cumulative GPA: 3.9/4.0  \n",
            "Honors: Tau Beta Pi; IEEE HKN Honor Society; Dean’s List; Littlejohn Research Award; Norman Gross Senior Design Award \n",
            "Relevant Coursework: Algorithms, Artificial Intelligence, Big Data Analytics, Computer Architecture, C++, Data Structures, Databases, \n",
            "Entrepreneurship, Linear Algebra, Machine Learning, Negotiations, OS, Probability, Ruby, Statistical Inference, Scientific Computing \n",
            " \n",
            "PROFESSIONAL EXPERIENCE  \n",
            "Microsoft, Software Engineer – Meeting Services Team| Redmond, WA                                                                      August 2021 – Present \n",
            " \n",
            "Feature owner for breakout rooms, Azure Communication Services rooms, and Microsoft mesh integration with Teams \n",
            " \n",
            "Designed and developed Athena, a chatbot that synthesizes information from multiple sources of documentation to \n",
            "improve the onboarding and on-call experience using GPT 3.5 and Azure Cognitive Search; recognized org-wide for this app \n",
            " \n",
            "Among 2 engineers selected for data science residency program and took on role of lead developer for Smart Incident \n",
            "Management application that reduced unwanted incident hops by 20% in our organization; used Python and MS Azure \n",
            " \n",
            "Designed and developed EU compliant data store for Azure Communication Services Rooms meetings \n",
            " \n",
            "Mentoring new hire on our team, serving as an onboarding buddy to help answer questions about our codebase and org \n",
            " \n",
            "Microsoft, Software Engineering Intern – Azure Communication Services | Redmond, WA \n",
            "                  May 2020 – August 2020 \n",
            " \n",
            "Spearheaded design of new features including remote and local video stream rendering on Universal Windows Platform \n",
            " \n",
            "Deployed the first release of a .NET calling SDK to 100 internal customers by the midpoint of the internship \n",
            "UPenn Department of Computer Science, Teaching Assistant | Philadelphia, PA                                       August 2019 – December 2019 \n",
            " \n",
            "Oversaw course operations for the master's level computer science course Programming for the Web with 75 students \n",
            " \n",
            "Graded programming assignments, held biweekly office hours, and scheduled and supervised exam sessions \n",
            "UPenn Department of Chemical Engineering, Research Assistant | Philadelphia, PA     \n",
            "                                  May 2018 – August 2019 \n",
            " \n",
            "Utilized density functional theory with VASP and Python code on the Chestnut High Performance Computing Cluster \n",
            " \n",
            "Conducted hundreds of molecular simulations to analyze cobalt catalysts for their applications in clean energy technology \n",
            " \n",
            "Co-authored 2 Journal Publications: Anisotropic Iron-Doping Patterns in Two-Dimensional Cobalt Oxide Nanoislands on Au \n",
            "(111) and The Effect of Fe Dopant Location in Co(Fe)OOHx Nanoparticles for the Oxygen Evolution Reaction \n",
            " \n",
            "TECHNICAL SKILLS \n",
            "Programming Languages: Python, C#, SQL, Java, JavaScript (React, Node, Express), C, C++, MATLAB, OCaml, Ruby on Rails \n",
            "Software and Tools: Azure, AWS, Open AI, Git, Multisim, Linux, Raspberry Pi, Excel, ASPEN Plus, VASP \n",
            " \n",
            "PROJECTS \n",
            "Athena | Technologies: Azure Cognitive Search, Azure Open AI, React, Azure Blob Store, Python Flask Server   May 2023 – Present  \n",
            " \n",
            "Developed chat application to improve onboarding experience and on call experience in our org using retrieval augmented \n",
            "generation to generate answers to user queries based on multiple documents ultimately delivering org-wide impact \n",
            " \n",
            "Currently onboarded over 500 documents including webpages with team documentation, OneNotes, and Word design docs \n",
            " \n",
            "Designed and implemented document ingestion pipeline to help onboard new teams onto the system smoothly \n",
            " \n",
            "Presented and demoed work in front of VP-level and have received engineering support to help develop it further \n",
            " \n",
            "SmartIcM | Technologies: LLMs, Azure ML, Azure Logic App, Azure Queue, Python                                                January 2023 – Present \n",
            " \n",
            "Drove development from conceptualization to reality reducing unwanted incident hops by 20% in our organization \n",
            " \n",
            "Built end-to-end system to draw insights from a database of past customer incidents using large language models \n",
            " \n",
            "StockSense | Technologies: TensorFlow, Python Flask Server, React, AWS                                                      September 2020 – May 2021 \n",
            " \n",
            "Analyzes corporate earnings calls with machine learning and displays the results on an interactive web application \n",
            " \n",
            "Honored as one of the top senior design projects in our graduating engineering class by winning the Norman Gross Award \n",
            " \n",
            "\n"
          ]
        }
      ]
    }
  ]
}